{
  "cells": [
    {
      "cell_type": "markdown",
      "metadata": {
        "id": "msrn1jgBl_Pl"
      },
      "source": [
        "# Week II: Feature and model selection\n",
        "\n",
        "This week we'll cover the topics of feature and model selection. \n",
        "\n",
        "**Model selection**: given a dataset, our goal is to choose the most fitting model.\n",
        "\n",
        "**Feature selection**: given a dataset and a model, our goal is to choose a subset of the dataset's features for which the model performs best."
      ]
    },
    {
      "cell_type": "markdown",
      "metadata": {
        "id": "C-Z5iAzCqC1q"
      },
      "source": [
        "## Dataset: Boston house prices\n",
        "\n",
        "Throughout this exercise we'll be using the Boston real-estate dataset (available online [here](http://lib.stat.cmu.edu/datasets/boston)). The goal in this dataset is to predict the prices of houses given a set of real-estate related variables.\n",
        "\n"
      ]
    },
    {
      "cell_type": "markdown",
      "metadata": {
        "id": "u5HuFqHfvSFt"
      },
      "source": [
        "According to the documentation, these are the definition of all variables:\n",
        " 1. **CRIM:**     per capita crime rate by town\n",
        " 2. **ZN:**       proportion of residential land zoned for lots over 25,000 sq.ft.\n",
        " 3. **INDUS:**    proportion of non-retail business acres per town\n",
        " 4. **CHAS:**     Charles River dummy variable (= 1 if tract bounds river; 0 otherwise)\n",
        " 5. **NOX:**      nitric oxides concentration (parts per 10 million)\n",
        " 6. **RM:**       average number of rooms per dwelling\n",
        " 7. **AGE:**      proportion of owner-occupied units built prior to 1940\n",
        " 8. **DIS:**      weighted distances to five Boston employment centres\n",
        " 9. **RAD:**      index of accessibility to radial highways\n",
        " 10. **TAX:**      full-value property-tax rate per 10,000 USD\n",
        " 11. **PTRATIO:**  pupil-teacher ratio by town\n",
        " 12. **B:**        1000(Bk - 0.63)^2 where Bk is the proportion of blacks by town\n",
        " 13. **LSTAT:**    % lower status of the population\n",
        " 14. **MEDV:**     Median value of owner-occupied homes in $1000's"
      ]
    },
    {
      "cell_type": "markdown",
      "metadata": {
        "id": "ftr0K1BPs4uv"
      },
      "source": [
        "### Loading the data\n",
        "\n",
        "The data is saved on Google drive. In order to import it we'll need to mount our drive into the notebook, using Google's library. Note that you'll need to authenticate your Google account."
      ]
    },
    {
      "cell_type": "code",
      "execution_count": 1,
      "metadata": {
        "colab": {
          "base_uri": "https://localhost:8080/"
        },
        "id": "6ppCGy7VrJcU",
        "outputId": "719fe694-1b34-45ae-c4d7-701cdd041f78"
      },
      "outputs": [
        {
          "name": "stdout",
          "output_type": "stream",
          "text": [
            "Mounted at /content/drive\n"
          ]
        }
      ],
      "source": [
        "from google.colab import drive\n",
        "drive.mount('/content/drive')"
      ]
    },
    {
      "cell_type": "markdown",
      "metadata": {
        "id": "oyiLEGdBtedg"
      },
      "source": [
        "Now that the drive is mounted, we can access files in it. Let's use pandas to load the dataset"
      ]
    },
    {
      "cell_type": "code",
      "execution_count": 2,
      "metadata": {
        "id": "XEe-jNpsrUPv"
      },
      "outputs": [],
      "source": [
        "import pandas as pd"
      ]
    },
    {
      "cell_type": "code",
      "execution_count": 3,
      "metadata": {
        "colab": {
          "base_uri": "https://localhost:8080/",
          "height": 424
        },
        "id": "xfQVoaSAsig-",
        "outputId": "9b43da2e-e277-410a-bf16-1f31982769bf"
      },
      "outputs": [
        {
          "data": {
            "text/html": [
              "\n",
              "  <div id=\"df-1f8058a0-daff-43ab-a134-ac3c09467414\">\n",
              "    <div class=\"colab-df-container\">\n",
              "      <div>\n",
              "<style scoped>\n",
              "    .dataframe tbody tr th:only-of-type {\n",
              "        vertical-align: middle;\n",
              "    }\n",
              "\n",
              "    .dataframe tbody tr th {\n",
              "        vertical-align: top;\n",
              "    }\n",
              "\n",
              "    .dataframe thead th {\n",
              "        text-align: right;\n",
              "    }\n",
              "</style>\n",
              "<table border=\"1\" class=\"dataframe\">\n",
              "  <thead>\n",
              "    <tr style=\"text-align: right;\">\n",
              "      <th></th>\n",
              "      <th>CRIM</th>\n",
              "      <th>ZN</th>\n",
              "      <th>INDUS</th>\n",
              "      <th>CHAS</th>\n",
              "      <th>NOX</th>\n",
              "      <th>RM</th>\n",
              "      <th>AGE</th>\n",
              "      <th>DIS</th>\n",
              "      <th>RAD</th>\n",
              "      <th>TAX</th>\n",
              "      <th>PTRATIO</th>\n",
              "      <th>B</th>\n",
              "      <th>LSTAT</th>\n",
              "      <th>MEDV</th>\n",
              "    </tr>\n",
              "  </thead>\n",
              "  <tbody>\n",
              "    <tr>\n",
              "      <th>0</th>\n",
              "      <td>0.00632</td>\n",
              "      <td>18.0</td>\n",
              "      <td>2.31</td>\n",
              "      <td>0.0</td>\n",
              "      <td>0.538</td>\n",
              "      <td>6.575</td>\n",
              "      <td>65.2</td>\n",
              "      <td>4.0900</td>\n",
              "      <td>1</td>\n",
              "      <td>296</td>\n",
              "      <td>15.3</td>\n",
              "      <td>396.90</td>\n",
              "      <td>4.98</td>\n",
              "      <td>24.0</td>\n",
              "    </tr>\n",
              "    <tr>\n",
              "      <th>1</th>\n",
              "      <td>0.02731</td>\n",
              "      <td>0.0</td>\n",
              "      <td>7.07</td>\n",
              "      <td>0.0</td>\n",
              "      <td>0.469</td>\n",
              "      <td>6.421</td>\n",
              "      <td>78.9</td>\n",
              "      <td>4.9671</td>\n",
              "      <td>2</td>\n",
              "      <td>242</td>\n",
              "      <td>17.8</td>\n",
              "      <td>396.90</td>\n",
              "      <td>9.14</td>\n",
              "      <td>21.6</td>\n",
              "    </tr>\n",
              "    <tr>\n",
              "      <th>2</th>\n",
              "      <td>0.02729</td>\n",
              "      <td>0.0</td>\n",
              "      <td>7.07</td>\n",
              "      <td>0.0</td>\n",
              "      <td>0.469</td>\n",
              "      <td>7.185</td>\n",
              "      <td>61.1</td>\n",
              "      <td>4.9671</td>\n",
              "      <td>2</td>\n",
              "      <td>242</td>\n",
              "      <td>17.8</td>\n",
              "      <td>392.83</td>\n",
              "      <td>4.03</td>\n",
              "      <td>34.7</td>\n",
              "    </tr>\n",
              "    <tr>\n",
              "      <th>3</th>\n",
              "      <td>0.03237</td>\n",
              "      <td>0.0</td>\n",
              "      <td>2.18</td>\n",
              "      <td>0.0</td>\n",
              "      <td>0.458</td>\n",
              "      <td>6.998</td>\n",
              "      <td>45.8</td>\n",
              "      <td>6.0622</td>\n",
              "      <td>3</td>\n",
              "      <td>222</td>\n",
              "      <td>18.7</td>\n",
              "      <td>394.63</td>\n",
              "      <td>2.94</td>\n",
              "      <td>33.4</td>\n",
              "    </tr>\n",
              "    <tr>\n",
              "      <th>4</th>\n",
              "      <td>0.06905</td>\n",
              "      <td>0.0</td>\n",
              "      <td>2.18</td>\n",
              "      <td>0.0</td>\n",
              "      <td>0.458</td>\n",
              "      <td>7.147</td>\n",
              "      <td>54.2</td>\n",
              "      <td>6.0622</td>\n",
              "      <td>3</td>\n",
              "      <td>222</td>\n",
              "      <td>18.7</td>\n",
              "      <td>396.90</td>\n",
              "      <td>NaN</td>\n",
              "      <td>36.2</td>\n",
              "    </tr>\n",
              "    <tr>\n",
              "      <th>...</th>\n",
              "      <td>...</td>\n",
              "      <td>...</td>\n",
              "      <td>...</td>\n",
              "      <td>...</td>\n",
              "      <td>...</td>\n",
              "      <td>...</td>\n",
              "      <td>...</td>\n",
              "      <td>...</td>\n",
              "      <td>...</td>\n",
              "      <td>...</td>\n",
              "      <td>...</td>\n",
              "      <td>...</td>\n",
              "      <td>...</td>\n",
              "      <td>...</td>\n",
              "    </tr>\n",
              "    <tr>\n",
              "      <th>501</th>\n",
              "      <td>0.06263</td>\n",
              "      <td>0.0</td>\n",
              "      <td>11.93</td>\n",
              "      <td>0.0</td>\n",
              "      <td>0.573</td>\n",
              "      <td>6.593</td>\n",
              "      <td>69.1</td>\n",
              "      <td>2.4786</td>\n",
              "      <td>1</td>\n",
              "      <td>273</td>\n",
              "      <td>21.0</td>\n",
              "      <td>391.99</td>\n",
              "      <td>NaN</td>\n",
              "      <td>22.4</td>\n",
              "    </tr>\n",
              "    <tr>\n",
              "      <th>502</th>\n",
              "      <td>0.04527</td>\n",
              "      <td>0.0</td>\n",
              "      <td>11.93</td>\n",
              "      <td>0.0</td>\n",
              "      <td>0.573</td>\n",
              "      <td>6.120</td>\n",
              "      <td>76.7</td>\n",
              "      <td>2.2875</td>\n",
              "      <td>1</td>\n",
              "      <td>273</td>\n",
              "      <td>21.0</td>\n",
              "      <td>396.90</td>\n",
              "      <td>9.08</td>\n",
              "      <td>20.6</td>\n",
              "    </tr>\n",
              "    <tr>\n",
              "      <th>503</th>\n",
              "      <td>0.06076</td>\n",
              "      <td>0.0</td>\n",
              "      <td>11.93</td>\n",
              "      <td>0.0</td>\n",
              "      <td>0.573</td>\n",
              "      <td>6.976</td>\n",
              "      <td>91.0</td>\n",
              "      <td>2.1675</td>\n",
              "      <td>1</td>\n",
              "      <td>273</td>\n",
              "      <td>21.0</td>\n",
              "      <td>396.90</td>\n",
              "      <td>5.64</td>\n",
              "      <td>23.9</td>\n",
              "    </tr>\n",
              "    <tr>\n",
              "      <th>504</th>\n",
              "      <td>0.10959</td>\n",
              "      <td>0.0</td>\n",
              "      <td>11.93</td>\n",
              "      <td>0.0</td>\n",
              "      <td>0.573</td>\n",
              "      <td>6.794</td>\n",
              "      <td>89.3</td>\n",
              "      <td>2.3889</td>\n",
              "      <td>1</td>\n",
              "      <td>273</td>\n",
              "      <td>21.0</td>\n",
              "      <td>393.45</td>\n",
              "      <td>6.48</td>\n",
              "      <td>22.0</td>\n",
              "    </tr>\n",
              "    <tr>\n",
              "      <th>505</th>\n",
              "      <td>0.04741</td>\n",
              "      <td>0.0</td>\n",
              "      <td>11.93</td>\n",
              "      <td>0.0</td>\n",
              "      <td>0.573</td>\n",
              "      <td>6.030</td>\n",
              "      <td>NaN</td>\n",
              "      <td>2.5050</td>\n",
              "      <td>1</td>\n",
              "      <td>273</td>\n",
              "      <td>21.0</td>\n",
              "      <td>396.90</td>\n",
              "      <td>7.88</td>\n",
              "      <td>11.9</td>\n",
              "    </tr>\n",
              "  </tbody>\n",
              "</table>\n",
              "<p>506 rows × 14 columns</p>\n",
              "</div>\n",
              "      <button class=\"colab-df-convert\" onclick=\"convertToInteractive('df-1f8058a0-daff-43ab-a134-ac3c09467414')\"\n",
              "              title=\"Convert this dataframe to an interactive table.\"\n",
              "              style=\"display:none;\">\n",
              "        \n",
              "  <svg xmlns=\"http://www.w3.org/2000/svg\" height=\"24px\"viewBox=\"0 0 24 24\"\n",
              "       width=\"24px\">\n",
              "    <path d=\"M0 0h24v24H0V0z\" fill=\"none\"/>\n",
              "    <path d=\"M18.56 5.44l.94 2.06.94-2.06 2.06-.94-2.06-.94-.94-2.06-.94 2.06-2.06.94zm-11 1L8.5 8.5l.94-2.06 2.06-.94-2.06-.94L8.5 2.5l-.94 2.06-2.06.94zm10 10l.94 2.06.94-2.06 2.06-.94-2.06-.94-.94-2.06-.94 2.06-2.06.94z\"/><path d=\"M17.41 7.96l-1.37-1.37c-.4-.4-.92-.59-1.43-.59-.52 0-1.04.2-1.43.59L10.3 9.45l-7.72 7.72c-.78.78-.78 2.05 0 2.83L4 21.41c.39.39.9.59 1.41.59.51 0 1.02-.2 1.41-.59l7.78-7.78 2.81-2.81c.8-.78.8-2.07 0-2.86zM5.41 20L4 18.59l7.72-7.72 1.47 1.35L5.41 20z\"/>\n",
              "  </svg>\n",
              "      </button>\n",
              "      \n",
              "  <style>\n",
              "    .colab-df-container {\n",
              "      display:flex;\n",
              "      flex-wrap:wrap;\n",
              "      gap: 12px;\n",
              "    }\n",
              "\n",
              "    .colab-df-convert {\n",
              "      background-color: #E8F0FE;\n",
              "      border: none;\n",
              "      border-radius: 50%;\n",
              "      cursor: pointer;\n",
              "      display: none;\n",
              "      fill: #1967D2;\n",
              "      height: 32px;\n",
              "      padding: 0 0 0 0;\n",
              "      width: 32px;\n",
              "    }\n",
              "\n",
              "    .colab-df-convert:hover {\n",
              "      background-color: #E2EBFA;\n",
              "      box-shadow: 0px 1px 2px rgba(60, 64, 67, 0.3), 0px 1px 3px 1px rgba(60, 64, 67, 0.15);\n",
              "      fill: #174EA6;\n",
              "    }\n",
              "\n",
              "    [theme=dark] .colab-df-convert {\n",
              "      background-color: #3B4455;\n",
              "      fill: #D2E3FC;\n",
              "    }\n",
              "\n",
              "    [theme=dark] .colab-df-convert:hover {\n",
              "      background-color: #434B5C;\n",
              "      box-shadow: 0px 1px 3px 1px rgba(0, 0, 0, 0.15);\n",
              "      filter: drop-shadow(0px 1px 2px rgba(0, 0, 0, 0.3));\n",
              "      fill: #FFFFFF;\n",
              "    }\n",
              "  </style>\n",
              "\n",
              "      <script>\n",
              "        const buttonEl =\n",
              "          document.querySelector('#df-1f8058a0-daff-43ab-a134-ac3c09467414 button.colab-df-convert');\n",
              "        buttonEl.style.display =\n",
              "          google.colab.kernel.accessAllowed ? 'block' : 'none';\n",
              "\n",
              "        async function convertToInteractive(key) {\n",
              "          const element = document.querySelector('#df-1f8058a0-daff-43ab-a134-ac3c09467414');\n",
              "          const dataTable =\n",
              "            await google.colab.kernel.invokeFunction('convertToInteractive',\n",
              "                                                     [key], {});\n",
              "          if (!dataTable) return;\n",
              "\n",
              "          const docLinkHtml = 'Like what you see? Visit the ' +\n",
              "            '<a target=\"_blank\" href=https://colab.research.google.com/notebooks/data_table.ipynb>data table notebook</a>'\n",
              "            + ' to learn more about interactive tables.';\n",
              "          element.innerHTML = '';\n",
              "          dataTable['output_type'] = 'display_data';\n",
              "          await google.colab.output.renderOutput(dataTable, element);\n",
              "          const docLink = document.createElement('div');\n",
              "          docLink.innerHTML = docLinkHtml;\n",
              "          element.appendChild(docLink);\n",
              "        }\n",
              "      </script>\n",
              "    </div>\n",
              "  </div>\n",
              "  "
            ],
            "text/plain": [
              "        CRIM    ZN  INDUS  CHAS    NOX     RM   AGE     DIS  RAD  TAX  \\\n",
              "0    0.00632  18.0   2.31   0.0  0.538  6.575  65.2  4.0900    1  296   \n",
              "1    0.02731   0.0   7.07   0.0  0.469  6.421  78.9  4.9671    2  242   \n",
              "2    0.02729   0.0   7.07   0.0  0.469  7.185  61.1  4.9671    2  242   \n",
              "3    0.03237   0.0   2.18   0.0  0.458  6.998  45.8  6.0622    3  222   \n",
              "4    0.06905   0.0   2.18   0.0  0.458  7.147  54.2  6.0622    3  222   \n",
              "..       ...   ...    ...   ...    ...    ...   ...     ...  ...  ...   \n",
              "501  0.06263   0.0  11.93   0.0  0.573  6.593  69.1  2.4786    1  273   \n",
              "502  0.04527   0.0  11.93   0.0  0.573  6.120  76.7  2.2875    1  273   \n",
              "503  0.06076   0.0  11.93   0.0  0.573  6.976  91.0  2.1675    1  273   \n",
              "504  0.10959   0.0  11.93   0.0  0.573  6.794  89.3  2.3889    1  273   \n",
              "505  0.04741   0.0  11.93   0.0  0.573  6.030   NaN  2.5050    1  273   \n",
              "\n",
              "     PTRATIO       B  LSTAT  MEDV  \n",
              "0       15.3  396.90   4.98  24.0  \n",
              "1       17.8  396.90   9.14  21.6  \n",
              "2       17.8  392.83   4.03  34.7  \n",
              "3       18.7  394.63   2.94  33.4  \n",
              "4       18.7  396.90    NaN  36.2  \n",
              "..       ...     ...    ...   ...  \n",
              "501     21.0  391.99    NaN  22.4  \n",
              "502     21.0  396.90   9.08  20.6  \n",
              "503     21.0  396.90   5.64  23.9  \n",
              "504     21.0  393.45   6.48  22.0  \n",
              "505     21.0  396.90   7.88  11.9  \n",
              "\n",
              "[506 rows x 14 columns]"
            ]
          },
          "execution_count": 3,
          "metadata": {},
          "output_type": "execute_result"
        }
      ],
      "source": [
        "df = pd.read_csv('/content/drive/My Drive/Colab Notebooks/Data/HousingData.csv')\n",
        "df"
      ]
    },
    {
      "cell_type": "markdown",
      "metadata": {
        "id": "6mmZkPP2vVG-"
      },
      "source": [
        "We can see that there are indeed 14 columns (variables) and 506 rows (samples) in the dataset. \n",
        "\n",
        "MEDV is our target (the house price) so we'll split the dataframe to two:\n",
        "\n"
      ]
    },
    {
      "cell_type": "code",
      "execution_count": 4,
      "metadata": {
        "colab": {
          "base_uri": "https://localhost:8080/"
        },
        "id": "Sg_MKxQx0IJD",
        "outputId": "8fb7748d-0c4d-4a89-9b9f-034510907efc"
      },
      "outputs": [
        {
          "data": {
            "text/plain": [
              "(        CRIM    ZN  INDUS  CHAS    NOX     RM   AGE     DIS  RAD  TAX  \\\n",
              " 0    0.00632  18.0   2.31   0.0  0.538  6.575  65.2  4.0900    1  296   \n",
              " 1    0.02731   0.0   7.07   0.0  0.469  6.421  78.9  4.9671    2  242   \n",
              " 2    0.02729   0.0   7.07   0.0  0.469  7.185  61.1  4.9671    2  242   \n",
              " 3    0.03237   0.0   2.18   0.0  0.458  6.998  45.8  6.0622    3  222   \n",
              " 4    0.06905   0.0   2.18   0.0  0.458  7.147  54.2  6.0622    3  222   \n",
              " ..       ...   ...    ...   ...    ...    ...   ...     ...  ...  ...   \n",
              " 501  0.06263   0.0  11.93   0.0  0.573  6.593  69.1  2.4786    1  273   \n",
              " 502  0.04527   0.0  11.93   0.0  0.573  6.120  76.7  2.2875    1  273   \n",
              " 503  0.06076   0.0  11.93   0.0  0.573  6.976  91.0  2.1675    1  273   \n",
              " 504  0.10959   0.0  11.93   0.0  0.573  6.794  89.3  2.3889    1  273   \n",
              " 505  0.04741   0.0  11.93   0.0  0.573  6.030   NaN  2.5050    1  273   \n",
              " \n",
              "      PTRATIO       B  LSTAT  \n",
              " 0       15.3  396.90   4.98  \n",
              " 1       17.8  396.90   9.14  \n",
              " 2       17.8  392.83   4.03  \n",
              " 3       18.7  394.63   2.94  \n",
              " 4       18.7  396.90    NaN  \n",
              " ..       ...     ...    ...  \n",
              " 501     21.0  391.99    NaN  \n",
              " 502     21.0  396.90   9.08  \n",
              " 503     21.0  396.90   5.64  \n",
              " 504     21.0  393.45   6.48  \n",
              " 505     21.0  396.90   7.88  \n",
              " \n",
              " [506 rows x 13 columns],      MEDV\n",
              " 0    24.0\n",
              " 1    21.6\n",
              " 2    34.7\n",
              " 3    33.4\n",
              " 4    36.2\n",
              " ..    ...\n",
              " 501  22.4\n",
              " 502  20.6\n",
              " 503  23.9\n",
              " 504  22.0\n",
              " 505  11.9\n",
              " \n",
              " [506 rows x 1 columns])"
            ]
          },
          "execution_count": 4,
          "metadata": {},
          "output_type": "execute_result"
        }
      ],
      "source": [
        "X = df.drop(['MEDV'], axis=1)\n",
        "Y = df[['MEDV']]\n",
        "X, Y"
      ]
    },
    {
      "cell_type": "markdown",
      "metadata": {
        "id": "fReY3PIB0Dqp"
      },
      "source": [
        "As usual, we'll split the data into training and testing datasets:"
      ]
    },
    {
      "cell_type": "code",
      "execution_count": 5,
      "metadata": {
        "id": "7W-Tzh_ayR36"
      },
      "outputs": [],
      "source": [
        "from sklearn.model_selection import train_test_split\n",
        "X_train, X_test, Y_train, Y_test = train_test_split(X, Y, test_size=0.2, random_state=42)"
      ]
    },
    {
      "cell_type": "markdown",
      "metadata": {
        "id": "fOYO1CpMvq-2"
      },
      "source": [
        "### Exploring the data\n",
        "\n"
      ]
    },
    {
      "cell_type": "markdown",
      "metadata": {
        "id": "bQaCtC6j4ogH"
      },
      "source": [
        "Let's look at some statistical attributes of the data:"
      ]
    },
    {
      "cell_type": "code",
      "execution_count": 6,
      "metadata": {
        "colab": {
          "base_uri": "https://localhost:8080/",
          "height": 300
        },
        "id": "o6BBYem7xomg",
        "outputId": "8e6ec87c-f085-449d-db43-f4584cd7d5d1"
      },
      "outputs": [
        {
          "data": {
            "text/html": [
              "\n",
              "  <div id=\"df-b11974ec-b80f-4b03-ad5a-24fa82db2c73\">\n",
              "    <div class=\"colab-df-container\">\n",
              "      <div>\n",
              "<style scoped>\n",
              "    .dataframe tbody tr th:only-of-type {\n",
              "        vertical-align: middle;\n",
              "    }\n",
              "\n",
              "    .dataframe tbody tr th {\n",
              "        vertical-align: top;\n",
              "    }\n",
              "\n",
              "    .dataframe thead th {\n",
              "        text-align: right;\n",
              "    }\n",
              "</style>\n",
              "<table border=\"1\" class=\"dataframe\">\n",
              "  <thead>\n",
              "    <tr style=\"text-align: right;\">\n",
              "      <th></th>\n",
              "      <th>CRIM</th>\n",
              "      <th>ZN</th>\n",
              "      <th>INDUS</th>\n",
              "      <th>CHAS</th>\n",
              "      <th>NOX</th>\n",
              "      <th>RM</th>\n",
              "      <th>AGE</th>\n",
              "      <th>DIS</th>\n",
              "      <th>RAD</th>\n",
              "      <th>TAX</th>\n",
              "      <th>PTRATIO</th>\n",
              "      <th>B</th>\n",
              "      <th>LSTAT</th>\n",
              "      <th>MEDV</th>\n",
              "    </tr>\n",
              "  </thead>\n",
              "  <tbody>\n",
              "    <tr>\n",
              "      <th>count</th>\n",
              "      <td>486.000000</td>\n",
              "      <td>486.000000</td>\n",
              "      <td>486.000000</td>\n",
              "      <td>486.000000</td>\n",
              "      <td>506.000000</td>\n",
              "      <td>506.000000</td>\n",
              "      <td>486.000000</td>\n",
              "      <td>506.000000</td>\n",
              "      <td>506.000000</td>\n",
              "      <td>506.000000</td>\n",
              "      <td>506.000000</td>\n",
              "      <td>506.000000</td>\n",
              "      <td>486.000000</td>\n",
              "      <td>506.000000</td>\n",
              "    </tr>\n",
              "    <tr>\n",
              "      <th>mean</th>\n",
              "      <td>3.611874</td>\n",
              "      <td>11.211934</td>\n",
              "      <td>11.083992</td>\n",
              "      <td>0.069959</td>\n",
              "      <td>0.554695</td>\n",
              "      <td>6.284634</td>\n",
              "      <td>68.518519</td>\n",
              "      <td>3.795043</td>\n",
              "      <td>9.549407</td>\n",
              "      <td>408.237154</td>\n",
              "      <td>18.455534</td>\n",
              "      <td>356.674032</td>\n",
              "      <td>12.715432</td>\n",
              "      <td>22.532806</td>\n",
              "    </tr>\n",
              "    <tr>\n",
              "      <th>std</th>\n",
              "      <td>8.720192</td>\n",
              "      <td>23.388876</td>\n",
              "      <td>6.835896</td>\n",
              "      <td>0.255340</td>\n",
              "      <td>0.115878</td>\n",
              "      <td>0.702617</td>\n",
              "      <td>27.999513</td>\n",
              "      <td>2.105710</td>\n",
              "      <td>8.707259</td>\n",
              "      <td>168.537116</td>\n",
              "      <td>2.164946</td>\n",
              "      <td>91.294864</td>\n",
              "      <td>7.155871</td>\n",
              "      <td>9.197104</td>\n",
              "    </tr>\n",
              "    <tr>\n",
              "      <th>min</th>\n",
              "      <td>0.006320</td>\n",
              "      <td>0.000000</td>\n",
              "      <td>0.460000</td>\n",
              "      <td>0.000000</td>\n",
              "      <td>0.385000</td>\n",
              "      <td>3.561000</td>\n",
              "      <td>2.900000</td>\n",
              "      <td>1.129600</td>\n",
              "      <td>1.000000</td>\n",
              "      <td>187.000000</td>\n",
              "      <td>12.600000</td>\n",
              "      <td>0.320000</td>\n",
              "      <td>1.730000</td>\n",
              "      <td>5.000000</td>\n",
              "    </tr>\n",
              "    <tr>\n",
              "      <th>25%</th>\n",
              "      <td>0.081900</td>\n",
              "      <td>0.000000</td>\n",
              "      <td>5.190000</td>\n",
              "      <td>0.000000</td>\n",
              "      <td>0.449000</td>\n",
              "      <td>5.885500</td>\n",
              "      <td>45.175000</td>\n",
              "      <td>2.100175</td>\n",
              "      <td>4.000000</td>\n",
              "      <td>279.000000</td>\n",
              "      <td>17.400000</td>\n",
              "      <td>375.377500</td>\n",
              "      <td>7.125000</td>\n",
              "      <td>17.025000</td>\n",
              "    </tr>\n",
              "    <tr>\n",
              "      <th>50%</th>\n",
              "      <td>0.253715</td>\n",
              "      <td>0.000000</td>\n",
              "      <td>9.690000</td>\n",
              "      <td>0.000000</td>\n",
              "      <td>0.538000</td>\n",
              "      <td>6.208500</td>\n",
              "      <td>76.800000</td>\n",
              "      <td>3.207450</td>\n",
              "      <td>5.000000</td>\n",
              "      <td>330.000000</td>\n",
              "      <td>19.050000</td>\n",
              "      <td>391.440000</td>\n",
              "      <td>11.430000</td>\n",
              "      <td>21.200000</td>\n",
              "    </tr>\n",
              "    <tr>\n",
              "      <th>75%</th>\n",
              "      <td>3.560263</td>\n",
              "      <td>12.500000</td>\n",
              "      <td>18.100000</td>\n",
              "      <td>0.000000</td>\n",
              "      <td>0.624000</td>\n",
              "      <td>6.623500</td>\n",
              "      <td>93.975000</td>\n",
              "      <td>5.188425</td>\n",
              "      <td>24.000000</td>\n",
              "      <td>666.000000</td>\n",
              "      <td>20.200000</td>\n",
              "      <td>396.225000</td>\n",
              "      <td>16.955000</td>\n",
              "      <td>25.000000</td>\n",
              "    </tr>\n",
              "    <tr>\n",
              "      <th>max</th>\n",
              "      <td>88.976200</td>\n",
              "      <td>100.000000</td>\n",
              "      <td>27.740000</td>\n",
              "      <td>1.000000</td>\n",
              "      <td>0.871000</td>\n",
              "      <td>8.780000</td>\n",
              "      <td>100.000000</td>\n",
              "      <td>12.126500</td>\n",
              "      <td>24.000000</td>\n",
              "      <td>711.000000</td>\n",
              "      <td>22.000000</td>\n",
              "      <td>396.900000</td>\n",
              "      <td>37.970000</td>\n",
              "      <td>50.000000</td>\n",
              "    </tr>\n",
              "  </tbody>\n",
              "</table>\n",
              "</div>\n",
              "      <button class=\"colab-df-convert\" onclick=\"convertToInteractive('df-b11974ec-b80f-4b03-ad5a-24fa82db2c73')\"\n",
              "              title=\"Convert this dataframe to an interactive table.\"\n",
              "              style=\"display:none;\">\n",
              "        \n",
              "  <svg xmlns=\"http://www.w3.org/2000/svg\" height=\"24px\"viewBox=\"0 0 24 24\"\n",
              "       width=\"24px\">\n",
              "    <path d=\"M0 0h24v24H0V0z\" fill=\"none\"/>\n",
              "    <path d=\"M18.56 5.44l.94 2.06.94-2.06 2.06-.94-2.06-.94-.94-2.06-.94 2.06-2.06.94zm-11 1L8.5 8.5l.94-2.06 2.06-.94-2.06-.94L8.5 2.5l-.94 2.06-2.06.94zm10 10l.94 2.06.94-2.06 2.06-.94-2.06-.94-.94-2.06-.94 2.06-2.06.94z\"/><path d=\"M17.41 7.96l-1.37-1.37c-.4-.4-.92-.59-1.43-.59-.52 0-1.04.2-1.43.59L10.3 9.45l-7.72 7.72c-.78.78-.78 2.05 0 2.83L4 21.41c.39.39.9.59 1.41.59.51 0 1.02-.2 1.41-.59l7.78-7.78 2.81-2.81c.8-.78.8-2.07 0-2.86zM5.41 20L4 18.59l7.72-7.72 1.47 1.35L5.41 20z\"/>\n",
              "  </svg>\n",
              "      </button>\n",
              "      \n",
              "  <style>\n",
              "    .colab-df-container {\n",
              "      display:flex;\n",
              "      flex-wrap:wrap;\n",
              "      gap: 12px;\n",
              "    }\n",
              "\n",
              "    .colab-df-convert {\n",
              "      background-color: #E8F0FE;\n",
              "      border: none;\n",
              "      border-radius: 50%;\n",
              "      cursor: pointer;\n",
              "      display: none;\n",
              "      fill: #1967D2;\n",
              "      height: 32px;\n",
              "      padding: 0 0 0 0;\n",
              "      width: 32px;\n",
              "    }\n",
              "\n",
              "    .colab-df-convert:hover {\n",
              "      background-color: #E2EBFA;\n",
              "      box-shadow: 0px 1px 2px rgba(60, 64, 67, 0.3), 0px 1px 3px 1px rgba(60, 64, 67, 0.15);\n",
              "      fill: #174EA6;\n",
              "    }\n",
              "\n",
              "    [theme=dark] .colab-df-convert {\n",
              "      background-color: #3B4455;\n",
              "      fill: #D2E3FC;\n",
              "    }\n",
              "\n",
              "    [theme=dark] .colab-df-convert:hover {\n",
              "      background-color: #434B5C;\n",
              "      box-shadow: 0px 1px 3px 1px rgba(0, 0, 0, 0.15);\n",
              "      filter: drop-shadow(0px 1px 2px rgba(0, 0, 0, 0.3));\n",
              "      fill: #FFFFFF;\n",
              "    }\n",
              "  </style>\n",
              "\n",
              "      <script>\n",
              "        const buttonEl =\n",
              "          document.querySelector('#df-b11974ec-b80f-4b03-ad5a-24fa82db2c73 button.colab-df-convert');\n",
              "        buttonEl.style.display =\n",
              "          google.colab.kernel.accessAllowed ? 'block' : 'none';\n",
              "\n",
              "        async function convertToInteractive(key) {\n",
              "          const element = document.querySelector('#df-b11974ec-b80f-4b03-ad5a-24fa82db2c73');\n",
              "          const dataTable =\n",
              "            await google.colab.kernel.invokeFunction('convertToInteractive',\n",
              "                                                     [key], {});\n",
              "          if (!dataTable) return;\n",
              "\n",
              "          const docLinkHtml = 'Like what you see? Visit the ' +\n",
              "            '<a target=\"_blank\" href=https://colab.research.google.com/notebooks/data_table.ipynb>data table notebook</a>'\n",
              "            + ' to learn more about interactive tables.';\n",
              "          element.innerHTML = '';\n",
              "          dataTable['output_type'] = 'display_data';\n",
              "          await google.colab.output.renderOutput(dataTable, element);\n",
              "          const docLink = document.createElement('div');\n",
              "          docLink.innerHTML = docLinkHtml;\n",
              "          element.appendChild(docLink);\n",
              "        }\n",
              "      </script>\n",
              "    </div>\n",
              "  </div>\n",
              "  "
            ],
            "text/plain": [
              "             CRIM          ZN       INDUS        CHAS         NOX          RM  \\\n",
              "count  486.000000  486.000000  486.000000  486.000000  506.000000  506.000000   \n",
              "mean     3.611874   11.211934   11.083992    0.069959    0.554695    6.284634   \n",
              "std      8.720192   23.388876    6.835896    0.255340    0.115878    0.702617   \n",
              "min      0.006320    0.000000    0.460000    0.000000    0.385000    3.561000   \n",
              "25%      0.081900    0.000000    5.190000    0.000000    0.449000    5.885500   \n",
              "50%      0.253715    0.000000    9.690000    0.000000    0.538000    6.208500   \n",
              "75%      3.560263   12.500000   18.100000    0.000000    0.624000    6.623500   \n",
              "max     88.976200  100.000000   27.740000    1.000000    0.871000    8.780000   \n",
              "\n",
              "              AGE         DIS         RAD         TAX     PTRATIO           B  \\\n",
              "count  486.000000  506.000000  506.000000  506.000000  506.000000  506.000000   \n",
              "mean    68.518519    3.795043    9.549407  408.237154   18.455534  356.674032   \n",
              "std     27.999513    2.105710    8.707259  168.537116    2.164946   91.294864   \n",
              "min      2.900000    1.129600    1.000000  187.000000   12.600000    0.320000   \n",
              "25%     45.175000    2.100175    4.000000  279.000000   17.400000  375.377500   \n",
              "50%     76.800000    3.207450    5.000000  330.000000   19.050000  391.440000   \n",
              "75%     93.975000    5.188425   24.000000  666.000000   20.200000  396.225000   \n",
              "max    100.000000   12.126500   24.000000  711.000000   22.000000  396.900000   \n",
              "\n",
              "            LSTAT        MEDV  \n",
              "count  486.000000  506.000000  \n",
              "mean    12.715432   22.532806  \n",
              "std      7.155871    9.197104  \n",
              "min      1.730000    5.000000  \n",
              "25%      7.125000   17.025000  \n",
              "50%     11.430000   21.200000  \n",
              "75%     16.955000   25.000000  \n",
              "max     37.970000   50.000000  "
            ]
          },
          "execution_count": 6,
          "metadata": {},
          "output_type": "execute_result"
        }
      ],
      "source": [
        "df.describe()"
      ]
    },
    {
      "cell_type": "markdown",
      "metadata": {
        "id": "6nyOe0RBzRpC"
      },
      "source": [
        "Let's look at the Pearson correlation between the features:"
      ]
    },
    {
      "cell_type": "code",
      "execution_count": 7,
      "metadata": {
        "id": "Vb7MTMQEz3ug"
      },
      "outputs": [],
      "source": [
        "correlations = df.corr()"
      ]
    },
    {
      "cell_type": "markdown",
      "metadata": {
        "id": "YU9TgES-2FbZ"
      },
      "source": [
        "Let's plot the correlation matrix using matplotlib and seaborn:"
      ]
    },
    {
      "cell_type": "code",
      "execution_count": 8,
      "metadata": {
        "colab": {
          "base_uri": "https://localhost:8080/",
          "height": 1000
        },
        "id": "6pcW7D7iSzdb",
        "outputId": "9d367976-5cd7-40e8-9a0b-b911883125b1"
      },
      "outputs": [
        {
          "data": {
            "text/plain": [
              "<matplotlib.axes._subplots.AxesSubplot at 0x7f1eb1df3210>"
            ]
          },
          "execution_count": 8,
          "metadata": {},
          "output_type": "execute_result"
        },
        {
          "data": {
            "image/png": "[encoded data removed]",
            "text/plain": [
              "<Figure size 1440x1440 with 2 Axes>"
            ]
          },
          "metadata": {
            "needs_background": "light"
          },
          "output_type": "display_data"
        }
      ],
      "source": [
        "import numpy as np\n",
        "import seaborn as sns\n",
        "import matplotlib.pyplot as plt\n",
        "mask = np.zeros_like(correlations, dtype=bool)\n",
        "mask[np.triu_indices_from(mask, k=1)] = True\n",
        "\n",
        "fig, ax = plt.subplots(figsize=(20, 20))\n",
        "plt.title('Pearson Correlation Heatmap', fontsize=23)\n",
        "\n",
        "sns.heatmap(correlations, linewidths=0.25, vmax=1.0, square=True, cmap=\"BuGn\",\n",
        "            linecolor='w', annot=True, mask=mask)"
      ]
    },
    {
      "cell_type": "markdown",
      "metadata": {
        "id": "ARY-T92DehUw"
      },
      "source": [
        "Check for null values:"
      ]
    },
    {
      "cell_type": "code",
      "execution_count": 9,
      "metadata": {
        "colab": {
          "base_uri": "https://localhost:8080/"
        },
        "id": "3-UfT7hNwfL8",
        "outputId": "96e8e0d7-015a-40f8-d4ae-b3f3dc0bcec2"
      },
      "outputs": [
        {
          "name": "stdout",
          "output_type": "stream",
          "text": [
            "<class 'pandas.core.frame.DataFrame'>\n",
            "RangeIndex: 506 entries, 0 to 505\n",
            "Data columns (total 14 columns):\n",
            " #   Column   Non-Null Count  Dtype  \n",
            "---  ------   --------------  -----  \n",
            " 0   CRIM     486 non-null    float64\n",
            " 1   ZN       486 non-null    float64\n",
            " 2   INDUS    486 non-null    float64\n",
            " 3   CHAS     486 non-null    float64\n",
            " 4   NOX      506 non-null    float64\n",
            " 5   RM       506 non-null    float64\n",
            " 6   AGE      486 non-null    float64\n",
            " 7   DIS      506 non-null    float64\n",
            " 8   RAD      506 non-null    int64  \n",
            " 9   TAX      506 non-null    int64  \n",
            " 10  PTRATIO  506 non-null    float64\n",
            " 11  B        506 non-null    float64\n",
            " 12  LSTAT    486 non-null    float64\n",
            " 13  MEDV     506 non-null    float64\n",
            "dtypes: float64(12), int64(2)\n",
            "memory usage: 55.5 KB\n"
          ]
        }
      ],
      "source": [
        "df.info()"
      ]
    },
    {
      "cell_type": "markdown",
      "metadata": {
        "id": "mc_LF7oGwkut"
      },
      "source": [
        "Most of the columns are of type float64, and only two are of type int64. We can also see that there are some null values in the dataset. Fortunately, none of them are in the label column. There are many ways to deal with null values, for example, we can:\n",
        "\n",
        "*   Drop rows with nulls\n",
        "*   Replace them with average\n",
        "*   Replace them with default value\n",
        "*   Use interpolation\n",
        "\n",
        "\n",
        "This time we replace these values with zeros:"
      ]
    },
    {
      "cell_type": "code",
      "execution_count": 10,
      "metadata": {
        "id": "Dy9sEkVs4tZe"
      },
      "outputs": [],
      "source": [
        "X_train, X_test = X_train.fillna(0), X_test.fillna(0)"
      ]
    },
    {
      "cell_type": "markdown",
      "metadata": {
        "id": "mAyiqDNa2yKA"
      },
      "source": [
        "## Model selection\n",
        "\n",
        "Now that we have the data, we can proceed to train a model. Given a set of features, our goal is to predict a real number - the value of the property. In other words, this is a regression probelm so we'll only consider regression algorithms. In today's examples we'll compare linear regression and random forest.\n"
      ]
    },
    {
      "cell_type": "markdown",
      "metadata": {
        "id": "3oulIGGkVXWy"
      },
      "source": [
        "We'll create a dictionary to save the models:"
      ]
    },
    {
      "cell_type": "code",
      "execution_count": 11,
      "metadata": {
        "id": "E8XtvTKkVdV6"
      },
      "outputs": [],
      "source": [
        "models = {'Random forest': None,\n",
        "          'Decision tree': None,\n",
        "          'Linear regression': None,\n",
        "          'Ridge regression': None}"
      ]
    },
    {
      "cell_type": "markdown",
      "metadata": {
        "id": "eq6O71sk3aOf"
      },
      "source": [
        "### Random forest\n",
        "\n",
        "Let's setup a function that trains a random forest"
      ]
    },
    {
      "cell_type": "code",
      "execution_count": 12,
      "metadata": {
        "id": "bD7iBMga362h"
      },
      "outputs": [],
      "source": [
        "from sklearn.ensemble import RandomForestRegressor\n",
        "from sklearn.model_selection import GridSearchCV"
      ]
    },
    {
      "cell_type": "markdown",
      "metadata": {
        "id": "lfk37-g66BmF"
      },
      "source": [
        "We'll use RandomizedSearchCV to find the best number of trees for our RF:"
      ]
    },
    {
      "cell_type": "code",
      "execution_count": 13,
      "metadata": {
        "id": "MHenXw9v4Fwm"
      },
      "outputs": [],
      "source": [
        "def run_random_forest(x_train, y_train):\n",
        "  rf = RandomForestRegressor(n_estimators=200, random_state=42)\n",
        "  tuned_rf = GridSearchCV(estimator=rf, \n",
        "                          param_grid={'max_features': ['auto', 'sqrt', 'log2', 1/3]},\n",
        "                          scoring='neg_mean_squared_error',\n",
        "                          cv=3, \n",
        "                          verbose=3,\n",
        "                          refit=True)\n",
        "  tuned_rf.fit(x_train, y_train)\n",
        "  return tuned_rf"
      ]
    },
    {
      "cell_type": "markdown",
      "metadata": {
        "id": "AjdAfDOiUehI"
      },
      "source": [
        "### Single decision tree\n",
        "\n",
        "Let's setup a function that trains a single decision tree"
      ]
    },
    {
      "cell_type": "code",
      "execution_count": 14,
      "metadata": {
        "id": "DUBobgShUehI"
      },
      "outputs": [],
      "source": [
        "from sklearn.tree import DecisionTreeRegressor"
      ]
    },
    {
      "cell_type": "markdown",
      "metadata": {
        "id": "Ia-o1VUTVCtB"
      },
      "source": [
        "We'll use RandomizedSearchCV to find the best number of trees for our RF:"
      ]
    },
    {
      "cell_type": "code",
      "execution_count": 15,
      "metadata": {
        "id": "iLY-9HP-VCtC"
      },
      "outputs": [],
      "source": [
        "def run_decision_tree(x_train, y_train):\n",
        "  dt = DecisionTreeRegressor(random_state=42)\n",
        "  tuned_dt = GridSearchCV(estimator=dt, \n",
        "                          param_grid={'max_features': ['auto', 'sqrt', 'log2', 1/3]},\n",
        "                          scoring='neg_mean_squared_error',\n",
        "                          cv=3, \n",
        "                          verbose=3)\n",
        "  tuned_dt.fit(x_train, y_train)\n",
        "  return tuned_dt"
      ]
    },
    {
      "cell_type": "markdown",
      "metadata": {
        "id": "FYV1j_dvAW_b"
      },
      "source": [
        "### Linear regression\n",
        "Let's repeat a similar process for linear regression. \n",
        "\n",
        "We'll begin by building a linear regression function:"
      ]
    },
    {
      "cell_type": "code",
      "execution_count": 16,
      "metadata": {
        "id": "0oe4uLI2AwuY"
      },
      "outputs": [],
      "source": [
        "from sklearn.linear_model import LinearRegression\n",
        "from sklearn.model_selection import cross_val_score"
      ]
    },
    {
      "cell_type": "code",
      "execution_count": 17,
      "metadata": {
        "id": "C2jL7LgiA7ks"
      },
      "outputs": [],
      "source": [
        "def run_linear_regression(x_train, y_train):\n",
        "  lr = LinearRegression()\n",
        "  lr.fit(x_train, np.ravel(y_train))\n",
        "  cv_score = cross_val_score(lr, x_train, y_train, scoring='neg_mean_squared_error', cv=3)\n",
        "  return lr, cv_score"
      ]
    },
    {
      "cell_type": "markdown",
      "metadata": {
        "id": "yu1E6RBJThUo"
      },
      "source": [
        "### Ridge regression"
      ]
    },
    {
      "cell_type": "markdown",
      "metadata": {
        "id": "FNEs-2m5Ws5y"
      },
      "source": [
        "Let's repeat a similar process for ridge regression. From Sklearn docs:"
      ]
    },
    {
      "cell_type": "markdown",
      "metadata": {
        "id": "hEqWVZ9JWqvK"
      },
      "source": [
        "![image.png](data:image/png;base64,iVBORw0KGgoAAAANSUhEUgAAAXMAAAA4CAYAAAAPUhiJAAAAAXNSR0IArs4c6QAAAARnQU1BAACxjwv8YQUAAAAJcEhZcwAADsMAAA7DAcdvqGQAAAcsSURBVHhe7d3LT1NZHAfw78w/MAuJMELi2I6JxhkBnWRiApKJWFQ2JOMCY4C06BAWdsHCGB5RwiMTFizqgqhDm0KMLDRhMY7TggugiRsZisZowrRq4qsO/A0z59yetpd3L3g79Pj9JDfcBy3l9tzvPfd3buGLfwUQEVFe+1J9JSKiPMYwJyLSAMOciEgDDHMiIg0wzImINMAwJyLSAMOciEgDDHMiIg0wzImINMAwJyLSAMOciEgDDHMiIg0wzImINMAwJyLSgO1/Ajcej6s5IiKyS07CvLi4WC0REZEdWGYhItIAw5yISAMMcyIiDTDMiYg0wDAnItLAjgvz+YAXw/NqYZUPCPX1I5RQi9rY5PeaH4Y3sO5OIZ0kQujvC4kWsY5ttQW2M52xZ0555gkGvi/HQWO6hHuWTuxLuNdajoE5tWgXEYr9f64bx0S2YJhvR2IcLSJUWsaX1AopGTbL19lpHsNe79o9qnk/Dvxar6Yu3H2v1mfjfRgt6cfWY2DHdNgO4/LTOTx/GoRbrdkxUj3bohIUmpe1YFM7w0fcHcq0swNjz9R6sophvh2Fdbgx0oDprmvpHmJ0sAkBdxA36nYlV9hsPjAMNLej9t3wivLUMww8AMaujOGFmCJHgc6gH1G1dWPiABufwcmm5GNfnHbB/8DqQfoZKm2G78hjePvuY/6Pfnh/L0G7u1RtzG/2tDNgceI6Jr71JdvZlS54XvWgZeKj2kpWaBDmyUvn5T3htdbZpLwNd9wRdN5+AswN4lygAXfaDhubooNrvYZPeKmfCOH+u1rUlhah5kItEsPDov+UcgiXr3hQppYKvqtEFV7i76wCeTfOtvbg7NdqsfRHeLCAuNVjTPZMvebXlK3kPkqWUsTUOo5FtWUzi+OXjH0u933q8av3tblUM7gieMzbxDQo3tet2lOEIjVrp/xtZ+L7T/bgxsndaukQXN8AU0v/qGWyQoMw34WqmgpMh2YyB3xiBuFIBVzHctM7Ljt/FccDTTjYOIrjPU3phl3iEK8r/lYtfWrisrdvFkcv1CQDo7AGnjMJsW6DwbM8sTgeBK7JUoqcJtGLbnRYODFPd1VjyDGZfLy4cgo0Lg/sQOMtOCfVc1eMYsj03NHBSbiMnyunINzifc06EOXJ668f4OuoRemZ9mQvPQdlFrYzkrQosxTUXYQ78hBTqtSx+Oghpt0X8bNRuMyBwjq0GgXcBrSayisFe/epOXPv6S1i4kTj3JNcv3WlaPa1o8b0OxadEgHSoQ66ZWTZxI+pb+ozvW0LomM98H/lgSdHFYOCujbTe6dO1lbCylzmKq+GW/QUY6aBUvfIdfX8q5+7rK0tfTKW9XmXeF9jr7M8kcgyiyyrfHgD48ellm2mSzuTtff6V/vRW3VIrSArNKmZy4MugvAj2YiXMBUCes8nSx1ZMcoB3sxktddhlFfkzCjOmS/L9zhwfCEurhieICyC3pkOjX1w5upEI0THvOiEB5F66wfJ4kSXOMBcGGt1oUCt25gaKJOTUVw1LWfbS1UDy6lSR2VXRG3Yqghi79TsZsR7mS6xiCn5vlokQrz9VC4KLIoG7cwYcH8Qhue0qbxHlmgzAFr2U0Oy1CJLLDiBKiuNWPagfL7MtGavYz1PMGCUV8Rlvbikh/myvNABZySON3OTiDma4MIkook4YhUOlKhvsVt0rN5iGGfIIK+YFSfGpkxNdHOyJ6f2Y7PslZqWs+qliv1Z3Q3I/anKHTM9FWrbVmXZQ5UnEfFeukdSZZY53Nlxt8ysIc/bmRHkQT9w1IfLObr605E2YY7ypmRt9dpDOH+ps96gtmhx/BYCqfKKMRgq8vzm8gG72GsY9fsSx0uEb8cxvd+Rk9eXPsBMA1TZygT5/9NTcu5VZRIRsB3b6JkbdxdVWDm5m4I/fcWVH/KxnZmDPDMQSluhT5in6p+RfXCVq1V2Ewe7LAG4RzJ11rK2INyRblQa5ZZiOCtG0RlyGGFScOwEYgHRi3fk4O+7i4Nk6JWcCaM+fQ9wtvfxPoN/dkF8XUBn0PTYoXDWd5Vs3WF4RE880KhKHdVxuMw983QZRIQ0IuislvMrPjwkB6NTZZKFq5gZyvLkbox9pJ5TTDcd6M2HnnnetjNxIpjyY0p8nZr1Zh5r+V51knbcP6eQH+d/fMQH4wp9FflxZHEWv7B8QCZF3pZWGb+I5+rWwPyx8e+VvktCk3uW7ZS/bUCRH+f/DfCsV+rbVltgO9OZPj1z43Lc4sAnEZEm8j/MU3c+VHfDmb7ljDYi6+GZS9qVEy9x6dNgO8st/g9QIiINaDQASkT0+WKYExFpgGFORKQBhjkRkQZyMgBKRET2sj3MiYjIfiyzEBFpgGFORKQBhjkRkQYY5kREGmCYExFpgGFORKQBhjkRkQYY5kREGmCYExFpgGFORKQBhjkRkQYY5kREGmCYExHlPeA/eSxOUfkk5rwAAAAASUVORK5CYII=)"
      ]
    },
    {
      "cell_type": "markdown",
      "metadata": {
        "id": "Kvl8n64cWu1J"
      },
      "source": [
        "We'll begin by building a linear regression function:"
      ]
    },
    {
      "cell_type": "code",
      "execution_count": 18,
      "metadata": {
        "id": "roZtq38tThUo"
      },
      "outputs": [],
      "source": [
        "from sklearn.linear_model import Ridge"
      ]
    },
    {
      "cell_type": "code",
      "execution_count": 19,
      "metadata": {
        "id": "j2egl6J4ThUp"
      },
      "outputs": [],
      "source": [
        "def run_ridge_regression(x_train, y_train):\n",
        "  rr = Ridge()\n",
        "  tuned_rr = GridSearchCV(estimator=rr, \n",
        "                          param_grid={'alpha': [0.05, 0.5, 1]},\n",
        "                          scoring='neg_mean_squared_error',\n",
        "                          cv=3, \n",
        "                          verbose=3)\n",
        "  tuned_rr.fit(x_train, np.ravel(y_train))\n",
        "  return tuned_rr"
      ]
    },
    {
      "cell_type": "markdown",
      "metadata": {
        "id": "TQP3R_wcWMih"
      },
      "source": [
        "### Run all models\n",
        "Let's run all models:"
      ]
    },
    {
      "cell_type": "code",
      "execution_count": 20,
      "metadata": {
        "id": "8U0YsHVYWSnq"
      },
      "outputs": [],
      "source": [
        "def run_all_models(x, y):\n",
        "  models_dict = {}\n",
        "  models_dict['Random forest'] = run_random_forest(x, y)\n",
        "  models_dict['Decision tree'] = run_decision_tree(x, y)\n",
        "  models_dict['Linear regression'] = run_linear_regression(x, y)\n",
        "  models_dict['Ridge regression'] = run_ridge_regression(x, y)\n",
        "  return models_dict"
      ]
    },
    {
      "cell_type": "code",
      "execution_count": 21,
      "metadata": {
        "colab": {
          "base_uri": "https://localhost:8080/"
        },
        "id": "6RSQhyl7Wp4E",
        "outputId": "82f13be2-b7af-4134-c772-0954c42f70e2"
      },
      "outputs": [
        {
          "name": "stdout",
          "output_type": "stream",
          "text": [
            "Fitting 3 folds for each of 4 candidates, totalling 12 fits\n",
            "[CV 1/3] END ...............max_features=auto;, score=-21.210 total time=   0.6s\n",
            "[CV 2/3] END ...............max_features=auto;, score=-25.719 total time=   0.6s\n",
            "[CV 3/3] END ...............max_features=auto;, score=-10.984 total time=   0.6s\n",
            "[CV 1/3] END ...............max_features=sqrt;, score=-17.162 total time=   0.4s\n",
            "[CV 2/3] END ...............max_features=sqrt;, score=-16.257 total time=   0.4s\n",
            "[CV 3/3] END ...............max_features=sqrt;, score=-15.720 total time=   0.4s\n",
            "[CV 1/3] END ...............max_features=log2;, score=-17.162 total time=   0.4s\n",
            "[CV 2/3] END ...............max_features=log2;, score=-16.257 total time=   0.4s\n",
            "[CV 3/3] END ...............max_features=log2;, score=-15.720 total time=   0.4s\n",
            "[CV 1/3] END .max_features=0.3333333333333333;, score=-17.316 total time=   0.4s\n",
            "[CV 2/3] END .max_features=0.3333333333333333;, score=-15.672 total time=   0.4s\n",
            "[CV 3/3] END .max_features=0.3333333333333333;, score=-14.641 total time=   0.4s\n",
            "Fitting 3 folds for each of 4 candidates, totalling 12 fits\n",
            "[CV 1/3] END ...............max_features=auto;, score=-31.116 total time=   0.0s\n",
            "[CV 2/3] END ...............max_features=auto;, score=-31.405 total time=   0.0s\n",
            "[CV 3/3] END ...............max_features=auto;, score=-22.453 total time=   0.0s\n",
            "[CV 1/3] END ...............max_features=sqrt;, score=-24.374 total time=   0.0s\n",
            "[CV 2/3] END ...............max_features=sqrt;, score=-37.101 total time=   0.0s\n",
            "[CV 3/3] END ...............max_features=sqrt;, score=-42.970 total time=   0.0s\n",
            "[CV 1/3] END ...............max_features=log2;, score=-24.374 total time=   0.0s\n",
            "[CV 2/3] END ...............max_features=log2;, score=-37.101 total time=   0.0s\n",
            "[CV 3/3] END ...............max_features=log2;, score=-42.970 total time=   0.0s\n",
            "[CV 1/3] END .max_features=0.3333333333333333;, score=-39.132 total time=   0.0s\n",
            "[CV 2/3] END .max_features=0.3333333333333333;, score=-42.044 total time=   0.0s\n",
            "[CV 3/3] END .max_features=0.3333333333333333;, score=-33.050 total time=   0.0s\n",
            "Fitting 3 folds for each of 3 candidates, totalling 9 fits\n",
            "[CV 1/3] END ......................alpha=0.05;, score=-24.976 total time=   0.0s\n",
            "[CV 2/3] END ......................alpha=0.05;, score=-26.211 total time=   0.0s\n",
            "[CV 3/3] END ......................alpha=0.05;, score=-22.516 total time=   0.0s\n",
            "[CV 1/3] END .......................alpha=0.5;, score=-25.165 total time=   0.0s\n",
            "[CV 2/3] END .......................alpha=0.5;, score=-26.381 total time=   0.0s\n",
            "[CV 3/3] END .......................alpha=0.5;, score=-22.700 total time=   0.0s\n",
            "[CV 1/3] END .........................alpha=1;, score=-25.357 total time=   0.0s\n",
            "[CV 2/3] END .........................alpha=1;, score=-26.542 total time=   0.0s\n",
            "[CV 3/3] END .........................alpha=1;, score=-22.884 total time=   0.0s\n"
          ]
        }
      ],
      "source": [
        "models = run_all_models(X_train, Y_train.values.ravel())"
      ]
    },
    {
      "cell_type": "code",
      "execution_count": 22,
      "metadata": {
        "colab": {
          "base_uri": "https://localhost:8080/"
        },
        "id": "pZsinqB4XIub",
        "outputId": "36a6ae7c-9f5d-4831-a129-7c463675f7bb"
      },
      "outputs": [
        {
          "data": {
            "text/plain": [
              "{'Random forest': GridSearchCV(cv=3,\n",
              "              estimator=RandomForestRegressor(n_estimators=200, random_state=42),\n",
              "              param_grid={'max_features': ['auto', 'sqrt', 'log2',\n",
              "                                           0.3333333333333333]},\n",
              "              scoring='neg_mean_squared_error', verbose=3),\n",
              " 'Decision tree': GridSearchCV(cv=3, estimator=DecisionTreeRegressor(random_state=42),\n",
              "              param_grid={'max_features': ['auto', 'sqrt', 'log2',\n",
              "                                           0.3333333333333333]},\n",
              "              scoring='neg_mean_squared_error', verbose=3),\n",
              " 'Linear regression': (LinearRegression(),\n",
              "  array([-24.96331537, -26.20175336, -22.50113198])),\n",
              " 'Ridge regression': GridSearchCV(cv=3, estimator=Ridge(), param_grid={'alpha': [0.05, 0.5, 1]},\n",
              "              scoring='neg_mean_squared_error', verbose=3)}"
            ]
          },
          "execution_count": 22,
          "metadata": {},
          "output_type": "execute_result"
        }
      ],
      "source": [
        "models"
      ]
    },
    {
      "cell_type": "markdown",
      "metadata": {
        "id": "tUjXeRY8YcW8"
      },
      "source": [
        "Comparing their cross validation scores:"
      ]
    },
    {
      "cell_type": "code",
      "execution_count": 23,
      "metadata": {
        "colab": {
          "base_uri": "https://localhost:8080/"
        },
        "id": "LNLFi6w_Yb0k",
        "outputId": "e0dc1cc2-f75f-4e0e-82cb-ab77fe29a724"
      },
      "outputs": [
        {
          "data": {
            "text/plain": [
              "{'Random forest': -15.876247833079956,\n",
              " 'Decision tree': -28.32452496775382,\n",
              " 'Ridge regression': -24.56765117744926,\n",
              " 'Linear regression': -24.555400236095664}"
            ]
          },
          "execution_count": 23,
          "metadata": {},
          "output_type": "execute_result"
        }
      ],
      "source": [
        "cv_scores = {}\n",
        "cv_scores['Random forest'] = models['Random forest'].best_score_\n",
        "cv_scores['Decision tree'] = models['Decision tree'].best_score_\n",
        "cv_scores['Ridge regression'] = models['Ridge regression'].best_score_\n",
        "cv_scores['Linear regression'] = models['Linear regression'][1].mean()\n",
        "cv_scores"
      ]
    },
    {
      "cell_type": "code",
      "execution_count": 24,
      "metadata": {
        "colab": {
          "base_uri": "https://localhost:8080/",
          "height": 350
        },
        "id": "xM4GEZt4Xc8L",
        "outputId": "c0584bf9-3e4e-43ec-cb65-68174c453f11"
      },
      "outputs": [
        {
          "data": {
            "text/plain": [
              "<matplotlib.axes._subplots.AxesSubplot at 0x7f1eac353e10>"
            ]
          },
          "execution_count": 24,
          "metadata": {},
          "output_type": "execute_result"
        },
        {
          "data": {
            "image/png": "[encoded data removed]",
            "text/plain": [
              "<Figure size 432x288 with 1 Axes>"
            ]
          },
          "metadata": {},
          "output_type": "display_data"
        }
      ],
      "source": [
        "sns.set()\n",
        "cv_scores_df = -pd.DataFrame.from_dict(cv_scores, orient='index')\n",
        "cv_scores_df.plot.bar(rot=45, legend=False)"
      ]
    },
    {
      "cell_type": "code",
      "execution_count": 25,
      "metadata": {
        "colab": {
          "base_uri": "https://localhost:8080/"
        },
        "id": "-Q_qW_nQUy4p",
        "outputId": "46590d5a-a6ee-4173-bd6f-c2baa6a44f15"
      },
      "outputs": [
        {
          "data": {
            "text/plain": [
              "{'max_features': 0.3333333333333333}"
            ]
          },
          "execution_count": 25,
          "metadata": {},
          "output_type": "execute_result"
        }
      ],
      "source": [
        "models['Random forest'].best_params_"
      ]
    },
    {
      "cell_type": "code",
      "execution_count": 26,
      "metadata": {
        "colab": {
          "base_uri": "https://localhost:8080/"
        },
        "id": "XP6lBKHhU2kx",
        "outputId": "3318dd47-bff0-459d-eb4f-aa31058b3071"
      },
      "outputs": [
        {
          "data": {
            "text/plain": [
              "{'max_features': 'auto'}"
            ]
          },
          "execution_count": 26,
          "metadata": {},
          "output_type": "execute_result"
        }
      ],
      "source": [
        "models['Decision tree'].best_params_"
      ]
    },
    {
      "cell_type": "code",
      "execution_count": 27,
      "metadata": {
        "colab": {
          "base_uri": "https://localhost:8080/"
        },
        "id": "BfkA2ZHZU6Mp",
        "outputId": "28219aa4-d066-4668-d44a-c58cecd4c1f3"
      },
      "outputs": [
        {
          "data": {
            "text/plain": [
              "{'alpha': 0.05}"
            ]
          },
          "execution_count": 27,
          "metadata": {},
          "output_type": "execute_result"
        }
      ],
      "source": [
        "models['Ridge regression'].best_params_"
      ]
    },
    {
      "cell_type": "markdown",
      "metadata": {
        "id": "9Bw9U_ERZDtc"
      },
      "source": [
        "# Evaluating on test set"
      ]
    },
    {
      "cell_type": "markdown",
      "metadata": {
        "id": "Yx7dCbC8Zcer"
      },
      "source": [
        "Let's evaluate all models:"
      ]
    },
    {
      "cell_type": "code",
      "execution_count": 28,
      "metadata": {
        "id": "hfQUqyqqZNZN"
      },
      "outputs": [],
      "source": [
        "from sklearn.metrics import mean_squared_error\n",
        "\n",
        "def evaluate_single_model(x, y, model):\n",
        "  y_pred = model.predict(x)\n",
        "  return mean_squared_error(y, y_pred)"
      ]
    },
    {
      "cell_type": "markdown",
      "metadata": {
        "id": "oZh2XxOAaXBt"
      },
      "source": [
        "And test the function:"
      ]
    },
    {
      "cell_type": "code",
      "execution_count": 29,
      "metadata": {
        "colab": {
          "base_uri": "https://localhost:8080/"
        },
        "id": "D67k00AXZgPs",
        "outputId": "7b326013-7aa4-453b-a095-6daf0b77fb1b"
      },
      "outputs": [
        {
          "data": {
            "text/plain": [
              "10.330201774509797"
            ]
          },
          "execution_count": 29,
          "metadata": {},
          "output_type": "execute_result"
        }
      ],
      "source": [
        "evaluate_single_model(X_test, Y_test, models['Random forest'].best_estimator_)"
      ]
    },
    {
      "cell_type": "markdown",
      "metadata": {
        "id": "I4MpmgBYZ78E"
      },
      "source": [
        "Let's create a dictionary that includes only trained models:"
      ]
    },
    {
      "cell_type": "code",
      "execution_count": 30,
      "metadata": {
        "colab": {
          "base_uri": "https://localhost:8080/"
        },
        "id": "Bd-MUc5EaFBM",
        "outputId": "776325d1-9ec3-4bac-c486-996a7e7b973f"
      },
      "outputs": [
        {
          "data": {
            "text/plain": [
              "{'Random forest': RandomForestRegressor(max_features=0.3333333333333333, n_estimators=200,\n",
              "                       random_state=42),\n",
              " 'Decision tree': DecisionTreeRegressor(max_features='auto', random_state=42),\n",
              " 'Ridge regression': Ridge(alpha=0.05),\n",
              " 'Linear regression': LinearRegression()}"
            ]
          },
          "execution_count": 30,
          "metadata": {},
          "output_type": "execute_result"
        }
      ],
      "source": [
        "trained_models_dict = {}\n",
        "trained_models_dict['Random forest'] = models['Random forest'].best_estimator_\n",
        "trained_models_dict['Decision tree'] = models['Decision tree'].best_estimator_\n",
        "trained_models_dict['Ridge regression'] = models['Ridge regression'].best_estimator_\n",
        "trained_models_dict['Linear regression'] = models['Linear regression'][0]\n",
        "trained_models_dict"
      ]
    },
    {
      "cell_type": "markdown",
      "metadata": {
        "id": "W8kRL7UxanJO"
      },
      "source": [
        "And create a function that iterates over all models:"
      ]
    },
    {
      "cell_type": "code",
      "execution_count": 31,
      "metadata": {
        "id": "J0sOG19KZFv1"
      },
      "outputs": [],
      "source": [
        "def evaluate_all_models(x, y, models_dict):\n",
        "  test_set_scores = {}\n",
        "  for k, v in models_dict.items():\n",
        "    test_set_scores[k] = evaluate_single_model(x, y, v)\n",
        "  return test_set_scores"
      ]
    },
    {
      "cell_type": "markdown",
      "metadata": {
        "id": "wc14xlYKawF2"
      },
      "source": [
        "Finally, let's run our function:"
      ]
    },
    {
      "cell_type": "code",
      "execution_count": 32,
      "metadata": {
        "colab": {
          "base_uri": "https://localhost:8080/"
        },
        "id": "-L5oOKaFah_3",
        "outputId": "f72060e9-b787-4482-c10a-63bb184b8dca"
      },
      "outputs": [
        {
          "data": {
            "text/plain": [
              "{'Random forest': 10.330201774509797,\n",
              " 'Decision tree': 24.693921568627452,\n",
              " 'Ridge regression': 25.931650205256418,\n",
              " 'Linear regression': 25.929696549627003}"
            ]
          },
          "execution_count": 32,
          "metadata": {},
          "output_type": "execute_result"
        }
      ],
      "source": [
        "test_set_scores = evaluate_all_models(X_test, Y_test, trained_models_dict)\n",
        "test_set_scores"
      ]
    },
    {
      "cell_type": "markdown",
      "metadata": {
        "id": "v-dUZ0sAcp9-"
      },
      "source": [
        "### Overall comparison"
      ]
    },
    {
      "cell_type": "markdown",
      "metadata": {
        "id": "PuHf2ktQcVGn"
      },
      "source": [
        "Let's combine the two dictionaries:"
      ]
    },
    {
      "cell_type": "code",
      "execution_count": 33,
      "metadata": {
        "colab": {
          "base_uri": "https://localhost:8080/"
        },
        "id": "F59TlEGHcW4v",
        "outputId": "d9085a01-65e2-4a4a-a137-810d1ed7630f"
      },
      "outputs": [
        {
          "data": {
            "text/plain": [
              "{'Random forest': [15.876247833079956, 10.330201774509797],\n",
              " 'Decision tree': [28.32452496775382, 24.693921568627452],\n",
              " 'Ridge regression': [24.56765117744926, 25.931650205256418],\n",
              " 'Linear regression': [24.555400236095664, 25.929696549627003]}"
            ]
          },
          "execution_count": 33,
          "metadata": {},
          "output_type": "execute_result"
        }
      ],
      "source": [
        "combined_dict = {k: [np.abs(v), test_set_scores[k]] for k, v in cv_scores.items()}\n",
        "combined_dict"
      ]
    },
    {
      "cell_type": "markdown",
      "metadata": {
        "id": "_-mLRYKNcut1"
      },
      "source": [
        "And compare the CV score to the test set score:"
      ]
    },
    {
      "cell_type": "code",
      "execution_count": 34,
      "metadata": {
        "colab": {
          "base_uri": "https://localhost:8080/",
          "height": 175
        },
        "id": "RTns2IUka9re",
        "outputId": "077f380d-2320-461c-e267-5225d0a799d8"
      },
      "outputs": [
        {
          "data": {
            "text/html": [
              "\n",
              "  <div id=\"df-9a23b0c1-efab-4245-8459-c8ad582265ce\">\n",
              "    <div class=\"colab-df-container\">\n",
              "      <div>\n",
              "<style scoped>\n",
              "    .dataframe tbody tr th:only-of-type {\n",
              "        vertical-align: middle;\n",
              "    }\n",
              "\n",
              "    .dataframe tbody tr th {\n",
              "        vertical-align: top;\n",
              "    }\n",
              "\n",
              "    .dataframe thead th {\n",
              "        text-align: right;\n",
              "    }\n",
              "</style>\n",
              "<table border=\"1\" class=\"dataframe\">\n",
              "  <thead>\n",
              "    <tr style=\"text-align: right;\">\n",
              "      <th></th>\n",
              "      <th>CV score</th>\n",
              "      <th>Test set score</th>\n",
              "    </tr>\n",
              "  </thead>\n",
              "  <tbody>\n",
              "    <tr>\n",
              "      <th>Random forest</th>\n",
              "      <td>15.876248</td>\n",
              "      <td>10.330202</td>\n",
              "    </tr>\n",
              "    <tr>\n",
              "      <th>Decision tree</th>\n",
              "      <td>28.324525</td>\n",
              "      <td>24.693922</td>\n",
              "    </tr>\n",
              "    <tr>\n",
              "      <th>Ridge regression</th>\n",
              "      <td>24.567651</td>\n",
              "      <td>25.931650</td>\n",
              "    </tr>\n",
              "    <tr>\n",
              "      <th>Linear regression</th>\n",
              "      <td>24.555400</td>\n",
              "      <td>25.929697</td>\n",
              "    </tr>\n",
              "  </tbody>\n",
              "</table>\n",
              "</div>\n",
              "      <button class=\"colab-df-convert\" onclick=\"convertToInteractive('df-9a23b0c1-efab-4245-8459-c8ad582265ce')\"\n",
              "              title=\"Convert this dataframe to an interactive table.\"\n",
              "              style=\"display:none;\">\n",
              "        \n",
              "  <svg xmlns=\"http://www.w3.org/2000/svg\" height=\"24px\"viewBox=\"0 0 24 24\"\n",
              "       width=\"24px\">\n",
              "    <path d=\"M0 0h24v24H0V0z\" fill=\"none\"/>\n",
              "    <path d=\"M18.56 5.44l.94 2.06.94-2.06 2.06-.94-2.06-.94-.94-2.06-.94 2.06-2.06.94zm-11 1L8.5 8.5l.94-2.06 2.06-.94-2.06-.94L8.5 2.5l-.94 2.06-2.06.94zm10 10l.94 2.06.94-2.06 2.06-.94-2.06-.94-.94-2.06-.94 2.06-2.06.94z\"/><path d=\"M17.41 7.96l-1.37-1.37c-.4-.4-.92-.59-1.43-.59-.52 0-1.04.2-1.43.59L10.3 9.45l-7.72 7.72c-.78.78-.78 2.05 0 2.83L4 21.41c.39.39.9.59 1.41.59.51 0 1.02-.2 1.41-.59l7.78-7.78 2.81-2.81c.8-.78.8-2.07 0-2.86zM5.41 20L4 18.59l7.72-7.72 1.47 1.35L5.41 20z\"/>\n",
              "  </svg>\n",
              "      </button>\n",
              "      \n",
              "  <style>\n",
              "    .colab-df-container {\n",
              "      display:flex;\n",
              "      flex-wrap:wrap;\n",
              "      gap: 12px;\n",
              "    }\n",
              "\n",
              "    .colab-df-convert {\n",
              "      background-color: #E8F0FE;\n",
              "      border: none;\n",
              "      border-radius: 50%;\n",
              "      cursor: pointer;\n",
              "      display: none;\n",
              "      fill: #1967D2;\n",
              "      height: 32px;\n",
              "      padding: 0 0 0 0;\n",
              "      width: 32px;\n",
              "    }\n",
              "\n",
              "    .colab-df-convert:hover {\n",
              "      background-color: #E2EBFA;\n",
              "      box-shadow: 0px 1px 2px rgba(60, 64, 67, 0.3), 0px 1px 3px 1px rgba(60, 64, 67, 0.15);\n",
              "      fill: #174EA6;\n",
              "    }\n",
              "\n",
              "    [theme=dark] .colab-df-convert {\n",
              "      background-color: #3B4455;\n",
              "      fill: #D2E3FC;\n",
              "    }\n",
              "\n",
              "    [theme=dark] .colab-df-convert:hover {\n",
              "      background-color: #434B5C;\n",
              "      box-shadow: 0px 1px 3px 1px rgba(0, 0, 0, 0.15);\n",
              "      filter: drop-shadow(0px 1px 2px rgba(0, 0, 0, 0.3));\n",
              "      fill: #FFFFFF;\n",
              "    }\n",
              "  </style>\n",
              "\n",
              "      <script>\n",
              "        const buttonEl =\n",
              "          document.querySelector('#df-9a23b0c1-efab-4245-8459-c8ad582265ce button.colab-df-convert');\n",
              "        buttonEl.style.display =\n",
              "          google.colab.kernel.accessAllowed ? 'block' : 'none';\n",
              "\n",
              "        async function convertToInteractive(key) {\n",
              "          const element = document.querySelector('#df-9a23b0c1-efab-4245-8459-c8ad582265ce');\n",
              "          const dataTable =\n",
              "            await google.colab.kernel.invokeFunction('convertToInteractive',\n",
              "                                                     [key], {});\n",
              "          if (!dataTable) return;\n",
              "\n",
              "          const docLinkHtml = 'Like what you see? Visit the ' +\n",
              "            '<a target=\"_blank\" href=https://colab.research.google.com/notebooks/data_table.ipynb>data table notebook</a>'\n",
              "            + ' to learn more about interactive tables.';\n",
              "          element.innerHTML = '';\n",
              "          dataTable['output_type'] = 'display_data';\n",
              "          await google.colab.output.renderOutput(dataTable, element);\n",
              "          const docLink = document.createElement('div');\n",
              "          docLink.innerHTML = docLinkHtml;\n",
              "          element.appendChild(docLink);\n",
              "        }\n",
              "      </script>\n",
              "    </div>\n",
              "  </div>\n",
              "  "
            ],
            "text/plain": [
              "                    CV score  Test set score\n",
              "Random forest      15.876248       10.330202\n",
              "Decision tree      28.324525       24.693922\n",
              "Ridge regression   24.567651       25.931650\n",
              "Linear regression  24.555400       25.929697"
            ]
          },
          "execution_count": 34,
          "metadata": {},
          "output_type": "execute_result"
        }
      ],
      "source": [
        "scores_df = pd.DataFrame.from_dict(combined_dict, orient='index', columns=['CV score', 'Test set score'])\n",
        "scores_df"
      ]
    },
    {
      "cell_type": "markdown",
      "metadata": {
        "id": "OptRSjbIB9le"
      },
      "source": [
        "## Feature selection\n",
        "\n",
        "Now that we saw basic results of two different models, let's try and experiment with the features themselves."
      ]
    },
    {
      "cell_type": "markdown",
      "metadata": {
        "id": "fI7AnGePCPX2"
      },
      "source": [
        "### Responsible AI\n",
        "\n",
        "The decisions of data scientists can often affect the lives of real people. Hence, there are many ethical considerations to be taken. In the industry, such concerns are well though out.\n",
        "\n",
        "Let's examine our case. There is one obious feature that stands out: the feature that is named **B**. It's unethical to use features such as skin color when using an AI model. Hence, we'll remove it.\n",
        "\n",
        "Let's remove feature **B**:"
      ]
    },
    {
      "cell_type": "code",
      "execution_count": 35,
      "metadata": {
        "colab": {
          "base_uri": "https://localhost:8080/"
        },
        "id": "x2sTqbKADrAN",
        "outputId": "8f2ea19c-1ab0-4001-b697-4cff8738cca2"
      },
      "outputs": [
        {
          "data": {
            "text/plain": [
              "(         CRIM    ZN  INDUS  CHAS     NOX     RM   AGE     DIS  RAD  TAX  \\\n",
              " 477  15.02340   0.0  18.10   0.0  0.6140  5.304  97.3  2.1007   24  666   \n",
              " 15    0.62739   0.0   8.14   0.0  0.5380  5.834  56.5  4.4986    4  307   \n",
              " 332   0.03466   0.0   6.06   0.0  0.4379  6.031  23.3  6.6407    1  304   \n",
              " 423   7.05042   0.0  18.10   0.0  0.6140  6.103   0.0  2.0218   24  666   \n",
              " 19    0.72580   0.0   8.14   0.0  0.5380  5.727  69.5  3.7965    4  307   \n",
              " ..        ...   ...    ...   ...     ...    ...   ...     ...  ...  ...   \n",
              " 106   0.17120   0.0   8.56   0.0  0.5200  5.836  91.9  2.2110    5  384   \n",
              " 270   0.29916  20.0   6.96   0.0  0.4640  5.856  42.1  4.4290    3  223   \n",
              " 348   0.01501  80.0   2.01   0.0  0.4350  6.635  29.7  8.3440    4  280   \n",
              " 435  11.16040   0.0  18.10   0.0  0.7400  6.629  94.6  2.1247   24  666   \n",
              " 102   0.22876   0.0   8.56   0.0  0.5200  6.405  85.4  2.7147    5  384   \n",
              " \n",
              "      PTRATIO  LSTAT  \n",
              " 477     20.2  24.91  \n",
              " 15      21.0   8.47  \n",
              " 332     16.9   7.83  \n",
              " 423     20.2  23.29  \n",
              " 19      21.0  11.28  \n",
              " ..       ...    ...  \n",
              " 106     20.9  18.66  \n",
              " 270     18.6  13.00  \n",
              " 348     17.0   5.99  \n",
              " 435     20.2  23.27  \n",
              " 102     20.9  10.63  \n",
              " \n",
              " [404 rows x 12 columns],\n",
              "          CRIM    ZN  INDUS  CHAS    NOX     RM    AGE     DIS  RAD  TAX  \\\n",
              " 173   0.09178   0.0   0.00   0.0  0.510  6.416    0.0  2.6463    5  296   \n",
              " 274   0.05644  40.0   6.41   1.0  0.447  6.758   32.9  4.0776    4  254   \n",
              " 491   0.10574   0.0  27.74   0.0  0.609  5.983   98.8  1.8681    4  711   \n",
              " 72    0.09164   0.0  10.81   0.0  0.413  6.065    7.8  5.2873    4  305   \n",
              " 452   5.09017   0.0  18.10   0.0  0.713  6.297   91.8  2.3682   24  666   \n",
              " ..        ...   ...    ...   ...    ...    ...    ...     ...  ...  ...   \n",
              " 412  18.81100   0.0  18.10   0.0  0.597  4.628  100.0  1.5539   24  666   \n",
              " 436  14.42080   0.0  18.10   0.0  0.740  6.461   93.3  2.0026   24  666   \n",
              " 411  14.05070   0.0  18.10   0.0  0.597  6.657  100.0  1.5275   24  666   \n",
              " 86    0.05188   0.0   4.49   0.0  0.449  6.015   45.1  4.4272    3  247   \n",
              " 75    0.09512   0.0  12.83   0.0  0.437  6.286   45.0  4.5026    5  398   \n",
              " \n",
              "      PTRATIO  LSTAT  \n",
              " 173     16.6   9.04  \n",
              " 274     17.6   3.53  \n",
              " 491     20.1  18.07  \n",
              " 72      19.2   5.52  \n",
              " 452     20.2  17.27  \n",
              " ..       ...    ...  \n",
              " 412     20.2  34.37  \n",
              " 436     20.2  18.05  \n",
              " 411     20.2  21.22  \n",
              " 86      18.5  12.86  \n",
              " 75      18.7   8.94  \n",
              " \n",
              " [102 rows x 12 columns])"
            ]
          },
          "execution_count": 35,
          "metadata": {},
          "output_type": "execute_result"
        }
      ],
      "source": [
        "X_train, X_test = X_train.drop(['B'], axis=1), X_test.drop(['B'], axis=1)\n",
        "X_train, X_test"
      ]
    },
    {
      "cell_type": "markdown",
      "metadata": {
        "id": "lemRKGVrEJ6d"
      },
      "source": [
        "Now we'll retrain the models without the unethical feature:"
      ]
    },
    {
      "cell_type": "code",
      "execution_count": 36,
      "metadata": {
        "colab": {
          "base_uri": "https://localhost:8080/"
        },
        "id": "Sf9-uNh2DB2v",
        "outputId": "3a5b45cd-1a81-46de-ebdb-b6ac768845c0"
      },
      "outputs": [
        {
          "name": "stdout",
          "output_type": "stream",
          "text": [
            "Fitting 3 folds for each of 4 candidates, totalling 12 fits\n",
            "[CV 1/3] END ...............max_features=auto;, score=-21.489 total time=   0.5s\n",
            "[CV 2/3] END ...............max_features=auto;, score=-24.659 total time=   0.5s\n",
            "[CV 3/3] END ...............max_features=auto;, score=-10.716 total time=   0.5s\n",
            "[CV 1/3] END ...............max_features=sqrt;, score=-18.105 total time=   0.3s\n",
            "[CV 2/3] END ...............max_features=sqrt;, score=-15.766 total time=   0.3s\n",
            "[CV 3/3] END ...............max_features=sqrt;, score=-14.889 total time=   0.3s\n",
            "[CV 1/3] END ...............max_features=log2;, score=-18.105 total time=   0.3s\n",
            "[CV 2/3] END ...............max_features=log2;, score=-15.766 total time=   0.3s\n",
            "[CV 3/3] END ...............max_features=log2;, score=-14.889 total time=   0.3s\n",
            "[CV 1/3] END .max_features=0.3333333333333333;, score=-18.140 total time=   0.3s\n",
            "[CV 2/3] END .max_features=0.3333333333333333;, score=-15.265 total time=   0.4s\n",
            "[CV 3/3] END .max_features=0.3333333333333333;, score=-14.350 total time=   0.4s\n",
            "Fitting 3 folds for each of 4 candidates, totalling 12 fits\n",
            "[CV 1/3] END ...............max_features=auto;, score=-36.212 total time=   0.0s\n",
            "[CV 2/3] END ...............max_features=auto;, score=-41.531 total time=   0.0s\n",
            "[CV 3/3] END ...............max_features=auto;, score=-24.696 total time=   0.0s\n",
            "[CV 1/3] END ...............max_features=sqrt;, score=-20.110 total time=   0.0s\n",
            "[CV 2/3] END ...............max_features=sqrt;, score=-38.660 total time=   0.0s\n",
            "[CV 3/3] END ...............max_features=sqrt;, score=-37.924 total time=   0.0s\n",
            "[CV 1/3] END ...............max_features=log2;, score=-20.110 total time=   0.0s\n",
            "[CV 2/3] END ...............max_features=log2;, score=-38.660 total time=   0.0s\n",
            "[CV 3/3] END ...............max_features=log2;, score=-37.924 total time=   0.0s\n",
            "[CV 1/3] END .max_features=0.3333333333333333;, score=-28.375 total time=   0.0s\n",
            "[CV 2/3] END .max_features=0.3333333333333333;, score=-31.263 total time=   0.0s\n",
            "[CV 3/3] END .max_features=0.3333333333333333;, score=-47.672 total time=   0.0s\n",
            "Fitting 3 folds for each of 3 candidates, totalling 9 fits\n",
            "[CV 1/3] END ......................alpha=0.05;, score=-26.302 total time=   0.0s\n",
            "[CV 2/3] END ......................alpha=0.05;, score=-26.524 total time=   0.0s\n",
            "[CV 3/3] END ......................alpha=0.05;, score=-23.309 total time=   0.0s\n",
            "[CV 1/3] END .......................alpha=0.5;, score=-26.583 total time=   0.0s\n",
            "[CV 2/3] END .......................alpha=0.5;, score=-26.408 total time=   0.0s\n",
            "[CV 3/3] END .......................alpha=0.5;, score=-23.526 total time=   0.0s\n",
            "[CV 1/3] END .........................alpha=1;, score=-26.820 total time=   0.0s\n",
            "[CV 2/3] END .........................alpha=1;, score=-26.458 total time=   0.0s\n",
            "[CV 3/3] END .........................alpha=1;, score=-23.736 total time=   0.0s\n"
          ]
        },
        {
          "data": {
            "text/plain": [
              "{'Random forest': GridSearchCV(cv=3,\n",
              "              estimator=RandomForestRegressor(n_estimators=200, random_state=42),\n",
              "              param_grid={'max_features': ['auto', 'sqrt', 'log2',\n",
              "                                           0.3333333333333333]},\n",
              "              scoring='neg_mean_squared_error', verbose=3),\n",
              " 'Decision tree': GridSearchCV(cv=3, estimator=DecisionTreeRegressor(random_state=42),\n",
              "              param_grid={'max_features': ['auto', 'sqrt', 'log2',\n",
              "                                           0.3333333333333333]},\n",
              "              scoring='neg_mean_squared_error', verbose=3),\n",
              " 'Linear regression': (LinearRegression(),\n",
              "  array([-26.27222194, -26.57329855, -23.2895572 ])),\n",
              " 'Ridge regression': GridSearchCV(cv=3, estimator=Ridge(), param_grid={'alpha': [0.05, 0.5, 1]},\n",
              "              scoring='neg_mean_squared_error', verbose=3)}"
            ]
          },
          "execution_count": 36,
          "metadata": {},
          "output_type": "execute_result"
        }
      ],
      "source": [
        "models = run_all_models(X_train, Y_train.values.ravel())\n",
        "models"
      ]
    },
    {
      "cell_type": "code",
      "execution_count": 37,
      "metadata": {
        "colab": {
          "base_uri": "https://localhost:8080/"
        },
        "id": "92i3L3VsoHZR",
        "outputId": "a9d8f721-8c31-466c-ed85-7497169bf38a"
      },
      "outputs": [
        {
          "data": {
            "text/plain": [
              "{'Random forest': -15.918191783121422,\n",
              " 'Decision tree': -32.231269209508014,\n",
              " 'Ridge regression': -25.37805381449424,\n",
              " 'Linear regression': -25.378359230504387}"
            ]
          },
          "execution_count": 37,
          "metadata": {},
          "output_type": "execute_result"
        }
      ],
      "source": [
        "cv_scores = {}\n",
        "cv_scores['Random forest'] = models['Random forest'].best_score_\n",
        "cv_scores['Decision tree'] = models['Decision tree'].best_score_\n",
        "cv_scores['Ridge regression'] = models['Ridge regression'].best_score_\n",
        "cv_scores['Linear regression'] = models['Linear regression'][1].mean()\n",
        "cv_scores"
      ]
    },
    {
      "cell_type": "code",
      "execution_count": 38,
      "metadata": {
        "colab": {
          "base_uri": "https://localhost:8080/"
        },
        "id": "yYRhsMGNWych",
        "outputId": "6094afda-0e1a-4d31-f06f-23d17798ac63"
      },
      "outputs": [
        {
          "data": {
            "text/plain": [
              "{'max_features': 0.3333333333333333}"
            ]
          },
          "execution_count": 38,
          "metadata": {},
          "output_type": "execute_result"
        }
      ],
      "source": [
        "models['Random forest'].best_params_"
      ]
    },
    {
      "cell_type": "code",
      "execution_count": 39,
      "metadata": {
        "colab": {
          "base_uri": "https://localhost:8080/"
        },
        "id": "2K-popxKWych",
        "outputId": "4e7cbfbb-0dec-495f-db37-7dcd57c09aa2"
      },
      "outputs": [
        {
          "data": {
            "text/plain": [
              "{'max_features': 'sqrt'}"
            ]
          },
          "execution_count": 39,
          "metadata": {},
          "output_type": "execute_result"
        }
      ],
      "source": [
        "models['Decision tree'].best_params_"
      ]
    },
    {
      "cell_type": "code",
      "execution_count": 40,
      "metadata": {
        "colab": {
          "base_uri": "https://localhost:8080/"
        },
        "id": "8FL4vRZzWyci",
        "outputId": "b7c56438-175c-43f2-ad6a-f34296a888ab"
      },
      "outputs": [
        {
          "data": {
            "text/plain": [
              "{'alpha': 0.05}"
            ]
          },
          "execution_count": 40,
          "metadata": {},
          "output_type": "execute_result"
        }
      ],
      "source": [
        "models['Ridge regression'].best_params_"
      ]
    },
    {
      "cell_type": "code",
      "execution_count": 41,
      "metadata": {
        "colab": {
          "base_uri": "https://localhost:8080/"
        },
        "id": "dLnRxApNoHql",
        "outputId": "03485f0d-6a25-47dc-b8b0-08651ec8c19d"
      },
      "outputs": [
        {
          "data": {
            "text/plain": [
              "{'Random forest': RandomForestRegressor(max_features=0.3333333333333333, n_estimators=200,\n",
              "                       random_state=42),\n",
              " 'Decision tree': DecisionTreeRegressor(max_features='sqrt', random_state=42),\n",
              " 'Ridge regression': Ridge(alpha=0.05),\n",
              " 'Linear regression': LinearRegression()}"
            ]
          },
          "execution_count": 41,
          "metadata": {},
          "output_type": "execute_result"
        }
      ],
      "source": [
        "trained_models_dict = {}\n",
        "trained_models_dict['Random forest'] = models['Random forest'].best_estimator_\n",
        "trained_models_dict['Decision tree'] = models['Decision tree'].best_estimator_\n",
        "trained_models_dict['Ridge regression'] = models['Ridge regression'].best_estimator_\n",
        "trained_models_dict['Linear regression'] = models['Linear regression'][0]\n",
        "trained_models_dict"
      ]
    },
    {
      "cell_type": "code",
      "execution_count": 42,
      "metadata": {
        "colab": {
          "base_uri": "https://localhost:8080/"
        },
        "id": "EfVISaOboNSl",
        "outputId": "8f0bd97b-7154-480b-f0dd-ef2b0f17eaf0"
      },
      "outputs": [
        {
          "data": {
            "text/plain": [
              "{'Random forest': 9.93215186138343,\n",
              " 'Decision tree': 26.54833333333334,\n",
              " 'Ridge regression': 24.682874584788507,\n",
              " 'Linear regression': 24.68042552557484}"
            ]
          },
          "execution_count": 42,
          "metadata": {},
          "output_type": "execute_result"
        }
      ],
      "source": [
        "test_set_scores = evaluate_all_models(X_test, Y_test, trained_models_dict)\n",
        "test_set_scores"
      ]
    },
    {
      "cell_type": "code",
      "execution_count": 43,
      "metadata": {
        "colab": {
          "base_uri": "https://localhost:8080/"
        },
        "id": "9GziWOu0oVZ9",
        "outputId": "9ffb3deb-dbda-4200-c805-bebace3af7b9"
      },
      "outputs": [
        {
          "data": {
            "text/plain": [
              "{'Random forest': [15.918191783121422, 9.93215186138343],\n",
              " 'Decision tree': [32.231269209508014, 26.54833333333334],\n",
              " 'Ridge regression': [25.37805381449424, 24.682874584788507],\n",
              " 'Linear regression': [25.378359230504387, 24.68042552557484]}"
            ]
          },
          "execution_count": 43,
          "metadata": {},
          "output_type": "execute_result"
        }
      ],
      "source": [
        "combined_dict = {k: [np.abs(v), test_set_scores[k]] for k, v in cv_scores.items()}\n",
        "combined_dict"
      ]
    },
    {
      "cell_type": "code",
      "execution_count": 44,
      "metadata": {
        "colab": {
          "base_uri": "https://localhost:8080/",
          "height": 175
        },
        "id": "--9t18bpoVZ-",
        "outputId": "768f65b8-7b21-4997-cb94-d5fb8fa3d3b4"
      },
      "outputs": [
        {
          "data": {
            "text/html": [
              "\n",
              "  <div id=\"df-eda0d925-7a80-4012-b9f1-351107fef3ae\">\n",
              "    <div class=\"colab-df-container\">\n",
              "      <div>\n",
              "<style scoped>\n",
              "    .dataframe tbody tr th:only-of-type {\n",
              "        vertical-align: middle;\n",
              "    }\n",
              "\n",
              "    .dataframe tbody tr th {\n",
              "        vertical-align: top;\n",
              "    }\n",
              "\n",
              "    .dataframe thead th {\n",
              "        text-align: right;\n",
              "    }\n",
              "</style>\n",
              "<table border=\"1\" class=\"dataframe\">\n",
              "  <thead>\n",
              "    <tr style=\"text-align: right;\">\n",
              "      <th></th>\n",
              "      <th>CV score</th>\n",
              "      <th>Test set score</th>\n",
              "    </tr>\n",
              "  </thead>\n",
              "  <tbody>\n",
              "    <tr>\n",
              "      <th>Random forest</th>\n",
              "      <td>15.918192</td>\n",
              "      <td>9.932152</td>\n",
              "    </tr>\n",
              "    <tr>\n",
              "      <th>Decision tree</th>\n",
              "      <td>32.231269</td>\n",
              "      <td>26.548333</td>\n",
              "    </tr>\n",
              "    <tr>\n",
              "      <th>Ridge regression</th>\n",
              "      <td>25.378054</td>\n",
              "      <td>24.682875</td>\n",
              "    </tr>\n",
              "    <tr>\n",
              "      <th>Linear regression</th>\n",
              "      <td>25.378359</td>\n",
              "      <td>24.680426</td>\n",
              "    </tr>\n",
              "  </tbody>\n",
              "</table>\n",
              "</div>\n",
              "      <button class=\"colab-df-convert\" onclick=\"convertToInteractive('df-eda0d925-7a80-4012-b9f1-351107fef3ae')\"\n",
              "              title=\"Convert this dataframe to an interactive table.\"\n",
              "              style=\"display:none;\">\n",
              "        \n",
              "  <svg xmlns=\"http://www.w3.org/2000/svg\" height=\"24px\"viewBox=\"0 0 24 24\"\n",
              "       width=\"24px\">\n",
              "    <path d=\"M0 0h24v24H0V0z\" fill=\"none\"/>\n",
              "    <path d=\"M18.56 5.44l.94 2.06.94-2.06 2.06-.94-2.06-.94-.94-2.06-.94 2.06-2.06.94zm-11 1L8.5 8.5l.94-2.06 2.06-.94-2.06-.94L8.5 2.5l-.94 2.06-2.06.94zm10 10l.94 2.06.94-2.06 2.06-.94-2.06-.94-.94-2.06-.94 2.06-2.06.94z\"/><path d=\"M17.41 7.96l-1.37-1.37c-.4-.4-.92-.59-1.43-.59-.52 0-1.04.2-1.43.59L10.3 9.45l-7.72 7.72c-.78.78-.78 2.05 0 2.83L4 21.41c.39.39.9.59 1.41.59.51 0 1.02-.2 1.41-.59l7.78-7.78 2.81-2.81c.8-.78.8-2.07 0-2.86zM5.41 20L4 18.59l7.72-7.72 1.47 1.35L5.41 20z\"/>\n",
              "  </svg>\n",
              "      </button>\n",
              "      \n",
              "  <style>\n",
              "    .colab-df-container {\n",
              "      display:flex;\n",
              "      flex-wrap:wrap;\n",
              "      gap: 12px;\n",
              "    }\n",
              "\n",
              "    .colab-df-convert {\n",
              "      background-color: #E8F0FE;\n",
              "      border: none;\n",
              "      border-radius: 50%;\n",
              "      cursor: pointer;\n",
              "      display: none;\n",
              "      fill: #1967D2;\n",
              "      height: 32px;\n",
              "      padding: 0 0 0 0;\n",
              "      width: 32px;\n",
              "    }\n",
              "\n",
              "    .colab-df-convert:hover {\n",
              "      background-color: #E2EBFA;\n",
              "      box-shadow: 0px 1px 2px rgba(60, 64, 67, 0.3), 0px 1px 3px 1px rgba(60, 64, 67, 0.15);\n",
              "      fill: #174EA6;\n",
              "    }\n",
              "\n",
              "    [theme=dark] .colab-df-convert {\n",
              "      background-color: #3B4455;\n",
              "      fill: #D2E3FC;\n",
              "    }\n",
              "\n",
              "    [theme=dark] .colab-df-convert:hover {\n",
              "      background-color: #434B5C;\n",
              "      box-shadow: 0px 1px 3px 1px rgba(0, 0, 0, 0.15);\n",
              "      filter: drop-shadow(0px 1px 2px rgba(0, 0, 0, 0.3));\n",
              "      fill: #FFFFFF;\n",
              "    }\n",
              "  </style>\n",
              "\n",
              "      <script>\n",
              "        const buttonEl =\n",
              "          document.querySelector('#df-eda0d925-7a80-4012-b9f1-351107fef3ae button.colab-df-convert');\n",
              "        buttonEl.style.display =\n",
              "          google.colab.kernel.accessAllowed ? 'block' : 'none';\n",
              "\n",
              "        async function convertToInteractive(key) {\n",
              "          const element = document.querySelector('#df-eda0d925-7a80-4012-b9f1-351107fef3ae');\n",
              "          const dataTable =\n",
              "            await google.colab.kernel.invokeFunction('convertToInteractive',\n",
              "                                                     [key], {});\n",
              "          if (!dataTable) return;\n",
              "\n",
              "          const docLinkHtml = 'Like what you see? Visit the ' +\n",
              "            '<a target=\"_blank\" href=https://colab.research.google.com/notebooks/data_table.ipynb>data table notebook</a>'\n",
              "            + ' to learn more about interactive tables.';\n",
              "          element.innerHTML = '';\n",
              "          dataTable['output_type'] = 'display_data';\n",
              "          await google.colab.output.renderOutput(dataTable, element);\n",
              "          const docLink = document.createElement('div');\n",
              "          docLink.innerHTML = docLinkHtml;\n",
              "          element.appendChild(docLink);\n",
              "        }\n",
              "      </script>\n",
              "    </div>\n",
              "  </div>\n",
              "  "
            ],
            "text/plain": [
              "                    CV score  Test set score\n",
              "Random forest      15.918192        9.932152\n",
              "Decision tree      32.231269       26.548333\n",
              "Ridge regression   25.378054       24.682875\n",
              "Linear regression  25.378359       24.680426"
            ]
          },
          "execution_count": 44,
          "metadata": {},
          "output_type": "execute_result"
        }
      ],
      "source": [
        "scores_df = pd.DataFrame.from_dict(combined_dict, orient='index', columns=['CV score', 'Test set score'])\n",
        "scores_df"
      ]
    },
    {
      "cell_type": "markdown",
      "metadata": {
        "id": "IlOB5zvlFtQL"
      },
      "source": [
        "### Feature importance\n",
        "\n",
        "Let's find the importance of all features for each model and remove insignificant features:"
      ]
    },
    {
      "cell_type": "code",
      "execution_count": 45,
      "metadata": {
        "id": "us-fyHw-GhP-"
      },
      "outputs": [],
      "source": [
        "feature_importance_dict = {}"
      ]
    },
    {
      "cell_type": "markdown",
      "metadata": {
        "id": "jl-WQpBxG49h"
      },
      "source": [
        "#### Tree based methods"
      ]
    },
    {
      "cell_type": "markdown",
      "metadata": {
        "id": "RGXBBs4QGHZX"
      },
      "source": [
        "For tree based models we can use SKLearn's built-in methods:"
      ]
    },
    {
      "cell_type": "code",
      "execution_count": 46,
      "metadata": {
        "id": "6tLPrIAzGMYS"
      },
      "outputs": [],
      "source": [
        "def find_tree_feature_importance(model, columns):\n",
        "  importance = model.feature_importances_\n",
        "  importance *= 100 / np.max(importance)  # Normalize\n",
        "  importance = pd.DataFrame(importance, index=columns, columns=[\"Importance\"])\n",
        "  importance = importance.sort_values(by=['Importance'], ascending=False)\n",
        "  return importance"
      ]
    },
    {
      "cell_type": "code",
      "execution_count": 47,
      "metadata": {
        "id": "Y2MCkIZDGS6s"
      },
      "outputs": [],
      "source": [
        "feature_importance_dict['Random forest'] = find_tree_feature_importance(trained_models_dict['Random forest'], X_train.columns)\n",
        "feature_importance_dict['Decision tree'] = find_tree_feature_importance(trained_models_dict['Decision tree'], X_train.columns)"
      ]
    },
    {
      "cell_type": "markdown",
      "metadata": {
        "id": "eqYG1lEsG8Aa"
      },
      "source": [
        "#### Classical regression methods"
      ]
    },
    {
      "cell_type": "markdown",
      "metadata": {
        "id": "aIP2pF1pG_lB"
      },
      "source": [
        "One interpetation of feature importance for linear/ridge regression, is the normalized value of the estimator's coefficients:"
      ]
    },
    {
      "cell_type": "code",
      "execution_count": 48,
      "metadata": {
        "id": "-e19JailHJ39"
      },
      "outputs": [],
      "source": [
        "def find_normalized_lr_feature_importance(model, x_train):\n",
        "  coefficients = {x_train.columns[i]: np.abs(model.coef_[i]) for i in range(len(x_train.columns))}\n",
        "  coefficients_df = pd.DataFrame.from_dict(coefficients, orient='index', columns=['Importance'])\n",
        "  coefficients_df['Importance'] *=  x_train.std()\n",
        "  coefficients_df['Importance'] *= 100 / coefficients_df['Importance'].max()\n",
        "  importance = coefficients_df.sort_values(by=['Importance'], ascending=False)\n",
        "  return importance"
      ]
    },
    {
      "cell_type": "code",
      "execution_count": 49,
      "metadata": {
        "id": "hGrXJvRcHMRE"
      },
      "outputs": [],
      "source": [
        "feature_importance_dict['Linear regression'] = find_normalized_lr_feature_importance(trained_models_dict['Linear regression'], X_train)\n",
        "feature_importance_dict['Ridge regression'] = find_normalized_lr_feature_importance(trained_models_dict['Ridge regression'], X_train)"
      ]
    },
    {
      "cell_type": "markdown",
      "metadata": {
        "id": "aFVaV87mICFL"
      },
      "source": [
        "#### Comparison"
      ]
    },
    {
      "cell_type": "markdown",
      "metadata": {
        "id": "m98QpfuSIEQQ"
      },
      "source": [
        "Let's visualize the different feature imprtance across the models:"
      ]
    },
    {
      "cell_type": "code",
      "execution_count": 50,
      "metadata": {
        "colab": {
          "base_uri": "https://localhost:8080/",
          "height": 736
        },
        "id": "-dynYPS0IIYz",
        "outputId": "f0f173fa-3548-436d-8ad3-69d746da9dff"
      },
      "outputs": [
        {
          "data": {
            "text/plain": [
              "<matplotlib.axes._subplots.AxesSubplot at 0x7f1eac1ebbd0>"
            ]
          },
          "execution_count": 50,
          "metadata": {},
          "output_type": "execute_result"
        },
        {
          "data": {
            "image/png": "[encoded data removed]",
            "text/plain": [
              "<Figure size 864x864 with 4 Axes>"
            ]
          },
          "metadata": {},
          "output_type": "display_data"
        }
      ],
      "source": [
        "sns.set()\n",
        "\n",
        "fig, axes = plt.subplots(2, 2, figsize=(12, 12))\n",
        "feature_importance_dict['Random forest'].plot(kind='barh', ax=axes[0, 0], legend=False, title='Random forest')\n",
        "feature_importance_dict['Decision tree'].plot(kind='barh', ax=axes[0, 1], legend=False, title='Decision tree')\n",
        "feature_importance_dict['Linear regression'].plot(kind='barh', ax=axes[1, 0], legend=False, title='Linear regression')\n",
        "feature_importance_dict['Ridge regression'].plot(kind='barh', ax=axes[1, 1], legend=False, title='Ridge regression')"
      ]
    },
    {
      "cell_type": "markdown",
      "metadata": {
        "id": "iZzTH87uLl0f"
      },
      "source": [
        "#### Removing weak features"
      ]
    },
    {
      "cell_type": "markdown",
      "metadata": {
        "id": "tmchGmPzXs96"
      },
      "source": [
        "Let's find the 3 weakest features in each model:"
      ]
    },
    {
      "cell_type": "code",
      "execution_count": 51,
      "metadata": {
        "colab": {
          "base_uri": "https://localhost:8080/"
        },
        "id": "g9HhllWFYYZl",
        "outputId": "9a08b2ce-d25c-4e1b-c883-6cf804d207ea"
      },
      "outputs": [
        {
          "data": {
            "text/plain": [
              "{'Random forest': ['CHAS', 'RAD', 'ZN'],\n",
              " 'Decision tree': ['TAX', 'RAD', 'CHAS'],\n",
              " 'Linear regression': ['ZN', 'AGE', 'INDUS'],\n",
              " 'Ridge regression': ['ZN', 'AGE', 'INDUS']}"
            ]
          },
          "execution_count": 51,
          "metadata": {},
          "output_type": "execute_result"
        }
      ],
      "source": [
        "weak_features_dict = {}\n",
        "for k, v in feature_importance_dict.items():\n",
        "  weak_features_dict[k] = list(v.index.values[-3:])\n",
        "weak_features_dict"
      ]
    },
    {
      "cell_type": "markdown",
      "metadata": {
        "id": "J_miQIU6Y7g2"
      },
      "source": [
        "And remove these features from each model. We create a dictionary mapping each model to X_train and X_test without the last 3 features:"
      ]
    },
    {
      "cell_type": "code",
      "execution_count": 52,
      "metadata": {
        "id": "wX5rb2L1Y-4M"
      },
      "outputs": [],
      "source": [
        "x_data_dict = {}\n",
        "for k, v in weak_features_dict.items():\n",
        "  x_data_dict[k] = (X_train.drop(v, axis=1), X_test.drop(v, axis=1))"
      ]
    },
    {
      "cell_type": "markdown",
      "metadata": {
        "id": "i9wdtxqHZkH1"
      },
      "source": [
        "Verify:"
      ]
    },
    {
      "cell_type": "code",
      "execution_count": 53,
      "metadata": {
        "colab": {
          "base_uri": "https://localhost:8080/",
          "height": 424
        },
        "id": "tEeTsVmRZe6V",
        "outputId": "562859c1-2234-4a12-9aae-274c60d354ec"
      },
      "outputs": [
        {
          "data": {
            "text/html": [
              "\n",
              "  <div id=\"df-ead036d7-17f8-463a-875d-d4cb5a85a3e0\">\n",
              "    <div class=\"colab-df-container\">\n",
              "      <div>\n",
              "<style scoped>\n",
              "    .dataframe tbody tr th:only-of-type {\n",
              "        vertical-align: middle;\n",
              "    }\n",
              "\n",
              "    .dataframe tbody tr th {\n",
              "        vertical-align: top;\n",
              "    }\n",
              "\n",
              "    .dataframe thead th {\n",
              "        text-align: right;\n",
              "    }\n",
              "</style>\n",
              "<table border=\"1\" class=\"dataframe\">\n",
              "  <thead>\n",
              "    <tr style=\"text-align: right;\">\n",
              "      <th></th>\n",
              "      <th>CRIM</th>\n",
              "      <th>INDUS</th>\n",
              "      <th>NOX</th>\n",
              "      <th>RM</th>\n",
              "      <th>AGE</th>\n",
              "      <th>DIS</th>\n",
              "      <th>TAX</th>\n",
              "      <th>PTRATIO</th>\n",
              "      <th>LSTAT</th>\n",
              "    </tr>\n",
              "  </thead>\n",
              "  <tbody>\n",
              "    <tr>\n",
              "      <th>477</th>\n",
              "      <td>15.02340</td>\n",
              "      <td>18.10</td>\n",
              "      <td>0.6140</td>\n",
              "      <td>5.304</td>\n",
              "      <td>97.3</td>\n",
              "      <td>2.1007</td>\n",
              "      <td>666</td>\n",
              "      <td>20.2</td>\n",
              "      <td>24.91</td>\n",
              "    </tr>\n",
              "    <tr>\n",
              "      <th>15</th>\n",
              "      <td>0.62739</td>\n",
              "      <td>8.14</td>\n",
              "      <td>0.5380</td>\n",
              "      <td>5.834</td>\n",
              "      <td>56.5</td>\n",
              "      <td>4.4986</td>\n",
              "      <td>307</td>\n",
              "      <td>21.0</td>\n",
              "      <td>8.47</td>\n",
              "    </tr>\n",
              "    <tr>\n",
              "      <th>332</th>\n",
              "      <td>0.03466</td>\n",
              "      <td>6.06</td>\n",
              "      <td>0.4379</td>\n",
              "      <td>6.031</td>\n",
              "      <td>23.3</td>\n",
              "      <td>6.6407</td>\n",
              "      <td>304</td>\n",
              "      <td>16.9</td>\n",
              "      <td>7.83</td>\n",
              "    </tr>\n",
              "    <tr>\n",
              "      <th>423</th>\n",
              "      <td>7.05042</td>\n",
              "      <td>18.10</td>\n",
              "      <td>0.6140</td>\n",
              "      <td>6.103</td>\n",
              "      <td>0.0</td>\n",
              "      <td>2.0218</td>\n",
              "      <td>666</td>\n",
              "      <td>20.2</td>\n",
              "      <td>23.29</td>\n",
              "    </tr>\n",
              "    <tr>\n",
              "      <th>19</th>\n",
              "      <td>0.72580</td>\n",
              "      <td>8.14</td>\n",
              "      <td>0.5380</td>\n",
              "      <td>5.727</td>\n",
              "      <td>69.5</td>\n",
              "      <td>3.7965</td>\n",
              "      <td>307</td>\n",
              "      <td>21.0</td>\n",
              "      <td>11.28</td>\n",
              "    </tr>\n",
              "    <tr>\n",
              "      <th>...</th>\n",
              "      <td>...</td>\n",
              "      <td>...</td>\n",
              "      <td>...</td>\n",
              "      <td>...</td>\n",
              "      <td>...</td>\n",
              "      <td>...</td>\n",
              "      <td>...</td>\n",
              "      <td>...</td>\n",
              "      <td>...</td>\n",
              "    </tr>\n",
              "    <tr>\n",
              "      <th>106</th>\n",
              "      <td>0.17120</td>\n",
              "      <td>8.56</td>\n",
              "      <td>0.5200</td>\n",
              "      <td>5.836</td>\n",
              "      <td>91.9</td>\n",
              "      <td>2.2110</td>\n",
              "      <td>384</td>\n",
              "      <td>20.9</td>\n",
              "      <td>18.66</td>\n",
              "    </tr>\n",
              "    <tr>\n",
              "      <th>270</th>\n",
              "      <td>0.29916</td>\n",
              "      <td>6.96</td>\n",
              "      <td>0.4640</td>\n",
              "      <td>5.856</td>\n",
              "      <td>42.1</td>\n",
              "      <td>4.4290</td>\n",
              "      <td>223</td>\n",
              "      <td>18.6</td>\n",
              "      <td>13.00</td>\n",
              "    </tr>\n",
              "    <tr>\n",
              "      <th>348</th>\n",
              "      <td>0.01501</td>\n",
              "      <td>2.01</td>\n",
              "      <td>0.4350</td>\n",
              "      <td>6.635</td>\n",
              "      <td>29.7</td>\n",
              "      <td>8.3440</td>\n",
              "      <td>280</td>\n",
              "      <td>17.0</td>\n",
              "      <td>5.99</td>\n",
              "    </tr>\n",
              "    <tr>\n",
              "      <th>435</th>\n",
              "      <td>11.16040</td>\n",
              "      <td>18.10</td>\n",
              "      <td>0.7400</td>\n",
              "      <td>6.629</td>\n",
              "      <td>94.6</td>\n",
              "      <td>2.1247</td>\n",
              "      <td>666</td>\n",
              "      <td>20.2</td>\n",
              "      <td>23.27</td>\n",
              "    </tr>\n",
              "    <tr>\n",
              "      <th>102</th>\n",
              "      <td>0.22876</td>\n",
              "      <td>8.56</td>\n",
              "      <td>0.5200</td>\n",
              "      <td>6.405</td>\n",
              "      <td>85.4</td>\n",
              "      <td>2.7147</td>\n",
              "      <td>384</td>\n",
              "      <td>20.9</td>\n",
              "      <td>10.63</td>\n",
              "    </tr>\n",
              "  </tbody>\n",
              "</table>\n",
              "<p>404 rows × 9 columns</p>\n",
              "</div>\n",
              "      <button class=\"colab-df-convert\" onclick=\"convertToInteractive('df-ead036d7-17f8-463a-875d-d4cb5a85a3e0')\"\n",
              "              title=\"Convert this dataframe to an interactive table.\"\n",
              "              style=\"display:none;\">\n",
              "        \n",
              "  <svg xmlns=\"http://www.w3.org/2000/svg\" height=\"24px\"viewBox=\"0 0 24 24\"\n",
              "       width=\"24px\">\n",
              "    <path d=\"M0 0h24v24H0V0z\" fill=\"none\"/>\n",
              "    <path d=\"M18.56 5.44l.94 2.06.94-2.06 2.06-.94-2.06-.94-.94-2.06-.94 2.06-2.06.94zm-11 1L8.5 8.5l.94-2.06 2.06-.94-2.06-.94L8.5 2.5l-.94 2.06-2.06.94zm10 10l.94 2.06.94-2.06 2.06-.94-2.06-.94-.94-2.06-.94 2.06-2.06.94z\"/><path d=\"M17.41 7.96l-1.37-1.37c-.4-.4-.92-.59-1.43-.59-.52 0-1.04.2-1.43.59L10.3 9.45l-7.72 7.72c-.78.78-.78 2.05 0 2.83L4 21.41c.39.39.9.59 1.41.59.51 0 1.02-.2 1.41-.59l7.78-7.78 2.81-2.81c.8-.78.8-2.07 0-2.86zM5.41 20L4 18.59l7.72-7.72 1.47 1.35L5.41 20z\"/>\n",
              "  </svg>\n",
              "      </button>\n",
              "      \n",
              "  <style>\n",
              "    .colab-df-container {\n",
              "      display:flex;\n",
              "      flex-wrap:wrap;\n",
              "      gap: 12px;\n",
              "    }\n",
              "\n",
              "    .colab-df-convert {\n",
              "      background-color: #E8F0FE;\n",
              "      border: none;\n",
              "      border-radius: 50%;\n",
              "      cursor: pointer;\n",
              "      display: none;\n",
              "      fill: #1967D2;\n",
              "      height: 32px;\n",
              "      padding: 0 0 0 0;\n",
              "      width: 32px;\n",
              "    }\n",
              "\n",
              "    .colab-df-convert:hover {\n",
              "      background-color: #E2EBFA;\n",
              "      box-shadow: 0px 1px 2px rgba(60, 64, 67, 0.3), 0px 1px 3px 1px rgba(60, 64, 67, 0.15);\n",
              "      fill: #174EA6;\n",
              "    }\n",
              "\n",
              "    [theme=dark] .colab-df-convert {\n",
              "      background-color: #3B4455;\n",
              "      fill: #D2E3FC;\n",
              "    }\n",
              "\n",
              "    [theme=dark] .colab-df-convert:hover {\n",
              "      background-color: #434B5C;\n",
              "      box-shadow: 0px 1px 3px 1px rgba(0, 0, 0, 0.15);\n",
              "      filter: drop-shadow(0px 1px 2px rgba(0, 0, 0, 0.3));\n",
              "      fill: #FFFFFF;\n",
              "    }\n",
              "  </style>\n",
              "\n",
              "      <script>\n",
              "        const buttonEl =\n",
              "          document.querySelector('#df-ead036d7-17f8-463a-875d-d4cb5a85a3e0 button.colab-df-convert');\n",
              "        buttonEl.style.display =\n",
              "          google.colab.kernel.accessAllowed ? 'block' : 'none';\n",
              "\n",
              "        async function convertToInteractive(key) {\n",
              "          const element = document.querySelector('#df-ead036d7-17f8-463a-875d-d4cb5a85a3e0');\n",
              "          const dataTable =\n",
              "            await google.colab.kernel.invokeFunction('convertToInteractive',\n",
              "                                                     [key], {});\n",
              "          if (!dataTable) return;\n",
              "\n",
              "          const docLinkHtml = 'Like what you see? Visit the ' +\n",
              "            '<a target=\"_blank\" href=https://colab.research.google.com/notebooks/data_table.ipynb>data table notebook</a>'\n",
              "            + ' to learn more about interactive tables.';\n",
              "          element.innerHTML = '';\n",
              "          dataTable['output_type'] = 'display_data';\n",
              "          await google.colab.output.renderOutput(dataTable, element);\n",
              "          const docLink = document.createElement('div');\n",
              "          docLink.innerHTML = docLinkHtml;\n",
              "          element.appendChild(docLink);\n",
              "        }\n",
              "      </script>\n",
              "    </div>\n",
              "  </div>\n",
              "  "
            ],
            "text/plain": [
              "         CRIM  INDUS     NOX     RM   AGE     DIS  TAX  PTRATIO  LSTAT\n",
              "477  15.02340  18.10  0.6140  5.304  97.3  2.1007  666     20.2  24.91\n",
              "15    0.62739   8.14  0.5380  5.834  56.5  4.4986  307     21.0   8.47\n",
              "332   0.03466   6.06  0.4379  6.031  23.3  6.6407  304     16.9   7.83\n",
              "423   7.05042  18.10  0.6140  6.103   0.0  2.0218  666     20.2  23.29\n",
              "19    0.72580   8.14  0.5380  5.727  69.5  3.7965  307     21.0  11.28\n",
              "..        ...    ...     ...    ...   ...     ...  ...      ...    ...\n",
              "106   0.17120   8.56  0.5200  5.836  91.9  2.2110  384     20.9  18.66\n",
              "270   0.29916   6.96  0.4640  5.856  42.1  4.4290  223     18.6  13.00\n",
              "348   0.01501   2.01  0.4350  6.635  29.7  8.3440  280     17.0   5.99\n",
              "435  11.16040  18.10  0.7400  6.629  94.6  2.1247  666     20.2  23.27\n",
              "102   0.22876   8.56  0.5200  6.405  85.4  2.7147  384     20.9  10.63\n",
              "\n",
              "[404 rows x 9 columns]"
            ]
          },
          "execution_count": 53,
          "metadata": {},
          "output_type": "execute_result"
        }
      ],
      "source": [
        "x_data_dict['Random forest'][0]"
      ]
    },
    {
      "cell_type": "code",
      "execution_count": 54,
      "metadata": {
        "colab": {
          "base_uri": "https://localhost:8080/",
          "height": 424
        },
        "id": "xPiPiIPZZiYN",
        "outputId": "98ddd745-e22e-4e6d-e958-4c8fadd3fa9a"
      },
      "outputs": [
        {
          "data": {
            "text/html": [
              "\n",
              "  <div id=\"df-67d3bc90-f88e-4064-8d6f-5f7ee6e6e4ed\">\n",
              "    <div class=\"colab-df-container\">\n",
              "      <div>\n",
              "<style scoped>\n",
              "    .dataframe tbody tr th:only-of-type {\n",
              "        vertical-align: middle;\n",
              "    }\n",
              "\n",
              "    .dataframe tbody tr th {\n",
              "        vertical-align: top;\n",
              "    }\n",
              "\n",
              "    .dataframe thead th {\n",
              "        text-align: right;\n",
              "    }\n",
              "</style>\n",
              "<table border=\"1\" class=\"dataframe\">\n",
              "  <thead>\n",
              "    <tr style=\"text-align: right;\">\n",
              "      <th></th>\n",
              "      <th>CRIM</th>\n",
              "      <th>INDUS</th>\n",
              "      <th>NOX</th>\n",
              "      <th>RM</th>\n",
              "      <th>AGE</th>\n",
              "      <th>DIS</th>\n",
              "      <th>TAX</th>\n",
              "      <th>PTRATIO</th>\n",
              "      <th>LSTAT</th>\n",
              "    </tr>\n",
              "  </thead>\n",
              "  <tbody>\n",
              "    <tr>\n",
              "      <th>173</th>\n",
              "      <td>0.09178</td>\n",
              "      <td>0.00</td>\n",
              "      <td>0.510</td>\n",
              "      <td>6.416</td>\n",
              "      <td>0.0</td>\n",
              "      <td>2.6463</td>\n",
              "      <td>296</td>\n",
              "      <td>16.6</td>\n",
              "      <td>9.04</td>\n",
              "    </tr>\n",
              "    <tr>\n",
              "      <th>274</th>\n",
              "      <td>0.05644</td>\n",
              "      <td>6.41</td>\n",
              "      <td>0.447</td>\n",
              "      <td>6.758</td>\n",
              "      <td>32.9</td>\n",
              "      <td>4.0776</td>\n",
              "      <td>254</td>\n",
              "      <td>17.6</td>\n",
              "      <td>3.53</td>\n",
              "    </tr>\n",
              "    <tr>\n",
              "      <th>491</th>\n",
              "      <td>0.10574</td>\n",
              "      <td>27.74</td>\n",
              "      <td>0.609</td>\n",
              "      <td>5.983</td>\n",
              "      <td>98.8</td>\n",
              "      <td>1.8681</td>\n",
              "      <td>711</td>\n",
              "      <td>20.1</td>\n",
              "      <td>18.07</td>\n",
              "    </tr>\n",
              "    <tr>\n",
              "      <th>72</th>\n",
              "      <td>0.09164</td>\n",
              "      <td>10.81</td>\n",
              "      <td>0.413</td>\n",
              "      <td>6.065</td>\n",
              "      <td>7.8</td>\n",
              "      <td>5.2873</td>\n",
              "      <td>305</td>\n",
              "      <td>19.2</td>\n",
              "      <td>5.52</td>\n",
              "    </tr>\n",
              "    <tr>\n",
              "      <th>452</th>\n",
              "      <td>5.09017</td>\n",
              "      <td>18.10</td>\n",
              "      <td>0.713</td>\n",
              "      <td>6.297</td>\n",
              "      <td>91.8</td>\n",
              "      <td>2.3682</td>\n",
              "      <td>666</td>\n",
              "      <td>20.2</td>\n",
              "      <td>17.27</td>\n",
              "    </tr>\n",
              "    <tr>\n",
              "      <th>...</th>\n",
              "      <td>...</td>\n",
              "      <td>...</td>\n",
              "      <td>...</td>\n",
              "      <td>...</td>\n",
              "      <td>...</td>\n",
              "      <td>...</td>\n",
              "      <td>...</td>\n",
              "      <td>...</td>\n",
              "      <td>...</td>\n",
              "    </tr>\n",
              "    <tr>\n",
              "      <th>412</th>\n",
              "      <td>18.81100</td>\n",
              "      <td>18.10</td>\n",
              "      <td>0.597</td>\n",
              "      <td>4.628</td>\n",
              "      <td>100.0</td>\n",
              "      <td>1.5539</td>\n",
              "      <td>666</td>\n",
              "      <td>20.2</td>\n",
              "      <td>34.37</td>\n",
              "    </tr>\n",
              "    <tr>\n",
              "      <th>436</th>\n",
              "      <td>14.42080</td>\n",
              "      <td>18.10</td>\n",
              "      <td>0.740</td>\n",
              "      <td>6.461</td>\n",
              "      <td>93.3</td>\n",
              "      <td>2.0026</td>\n",
              "      <td>666</td>\n",
              "      <td>20.2</td>\n",
              "      <td>18.05</td>\n",
              "    </tr>\n",
              "    <tr>\n",
              "      <th>411</th>\n",
              "      <td>14.05070</td>\n",
              "      <td>18.10</td>\n",
              "      <td>0.597</td>\n",
              "      <td>6.657</td>\n",
              "      <td>100.0</td>\n",
              "      <td>1.5275</td>\n",
              "      <td>666</td>\n",
              "      <td>20.2</td>\n",
              "      <td>21.22</td>\n",
              "    </tr>\n",
              "    <tr>\n",
              "      <th>86</th>\n",
              "      <td>0.05188</td>\n",
              "      <td>4.49</td>\n",
              "      <td>0.449</td>\n",
              "      <td>6.015</td>\n",
              "      <td>45.1</td>\n",
              "      <td>4.4272</td>\n",
              "      <td>247</td>\n",
              "      <td>18.5</td>\n",
              "      <td>12.86</td>\n",
              "    </tr>\n",
              "    <tr>\n",
              "      <th>75</th>\n",
              "      <td>0.09512</td>\n",
              "      <td>12.83</td>\n",
              "      <td>0.437</td>\n",
              "      <td>6.286</td>\n",
              "      <td>45.0</td>\n",
              "      <td>4.5026</td>\n",
              "      <td>398</td>\n",
              "      <td>18.7</td>\n",
              "      <td>8.94</td>\n",
              "    </tr>\n",
              "  </tbody>\n",
              "</table>\n",
              "<p>102 rows × 9 columns</p>\n",
              "</div>\n",
              "      <button class=\"colab-df-convert\" onclick=\"convertToInteractive('df-67d3bc90-f88e-4064-8d6f-5f7ee6e6e4ed')\"\n",
              "              title=\"Convert this dataframe to an interactive table.\"\n",
              "              style=\"display:none;\">\n",
              "        \n",
              "  <svg xmlns=\"http://www.w3.org/2000/svg\" height=\"24px\"viewBox=\"0 0 24 24\"\n",
              "       width=\"24px\">\n",
              "    <path d=\"M0 0h24v24H0V0z\" fill=\"none\"/>\n",
              "    <path d=\"M18.56 5.44l.94 2.06.94-2.06 2.06-.94-2.06-.94-.94-2.06-.94 2.06-2.06.94zm-11 1L8.5 8.5l.94-2.06 2.06-.94-2.06-.94L8.5 2.5l-.94 2.06-2.06.94zm10 10l.94 2.06.94-2.06 2.06-.94-2.06-.94-.94-2.06-.94 2.06-2.06.94z\"/><path d=\"M17.41 7.96l-1.37-1.37c-.4-.4-.92-.59-1.43-.59-.52 0-1.04.2-1.43.59L10.3 9.45l-7.72 7.72c-.78.78-.78 2.05 0 2.83L4 21.41c.39.39.9.59 1.41.59.51 0 1.02-.2 1.41-.59l7.78-7.78 2.81-2.81c.8-.78.8-2.07 0-2.86zM5.41 20L4 18.59l7.72-7.72 1.47 1.35L5.41 20z\"/>\n",
              "  </svg>\n",
              "      </button>\n",
              "      \n",
              "  <style>\n",
              "    .colab-df-container {\n",
              "      display:flex;\n",
              "      flex-wrap:wrap;\n",
              "      gap: 12px;\n",
              "    }\n",
              "\n",
              "    .colab-df-convert {\n",
              "      background-color: #E8F0FE;\n",
              "      border: none;\n",
              "      border-radius: 50%;\n",
              "      cursor: pointer;\n",
              "      display: none;\n",
              "      fill: #1967D2;\n",
              "      height: 32px;\n",
              "      padding: 0 0 0 0;\n",
              "      width: 32px;\n",
              "    }\n",
              "\n",
              "    .colab-df-convert:hover {\n",
              "      background-color: #E2EBFA;\n",
              "      box-shadow: 0px 1px 2px rgba(60, 64, 67, 0.3), 0px 1px 3px 1px rgba(60, 64, 67, 0.15);\n",
              "      fill: #174EA6;\n",
              "    }\n",
              "\n",
              "    [theme=dark] .colab-df-convert {\n",
              "      background-color: #3B4455;\n",
              "      fill: #D2E3FC;\n",
              "    }\n",
              "\n",
              "    [theme=dark] .colab-df-convert:hover {\n",
              "      background-color: #434B5C;\n",
              "      box-shadow: 0px 1px 3px 1px rgba(0, 0, 0, 0.15);\n",
              "      filter: drop-shadow(0px 1px 2px rgba(0, 0, 0, 0.3));\n",
              "      fill: #FFFFFF;\n",
              "    }\n",
              "  </style>\n",
              "\n",
              "      <script>\n",
              "        const buttonEl =\n",
              "          document.querySelector('#df-67d3bc90-f88e-4064-8d6f-5f7ee6e6e4ed button.colab-df-convert');\n",
              "        buttonEl.style.display =\n",
              "          google.colab.kernel.accessAllowed ? 'block' : 'none';\n",
              "\n",
              "        async function convertToInteractive(key) {\n",
              "          const element = document.querySelector('#df-67d3bc90-f88e-4064-8d6f-5f7ee6e6e4ed');\n",
              "          const dataTable =\n",
              "            await google.colab.kernel.invokeFunction('convertToInteractive',\n",
              "                                                     [key], {});\n",
              "          if (!dataTable) return;\n",
              "\n",
              "          const docLinkHtml = 'Like what you see? Visit the ' +\n",
              "            '<a target=\"_blank\" href=https://colab.research.google.com/notebooks/data_table.ipynb>data table notebook</a>'\n",
              "            + ' to learn more about interactive tables.';\n",
              "          element.innerHTML = '';\n",
              "          dataTable['output_type'] = 'display_data';\n",
              "          await google.colab.output.renderOutput(dataTable, element);\n",
              "          const docLink = document.createElement('div');\n",
              "          docLink.innerHTML = docLinkHtml;\n",
              "          element.appendChild(docLink);\n",
              "        }\n",
              "      </script>\n",
              "    </div>\n",
              "  </div>\n",
              "  "
            ],
            "text/plain": [
              "         CRIM  INDUS    NOX     RM    AGE     DIS  TAX  PTRATIO  LSTAT\n",
              "173   0.09178   0.00  0.510  6.416    0.0  2.6463  296     16.6   9.04\n",
              "274   0.05644   6.41  0.447  6.758   32.9  4.0776  254     17.6   3.53\n",
              "491   0.10574  27.74  0.609  5.983   98.8  1.8681  711     20.1  18.07\n",
              "72    0.09164  10.81  0.413  6.065    7.8  5.2873  305     19.2   5.52\n",
              "452   5.09017  18.10  0.713  6.297   91.8  2.3682  666     20.2  17.27\n",
              "..        ...    ...    ...    ...    ...     ...  ...      ...    ...\n",
              "412  18.81100  18.10  0.597  4.628  100.0  1.5539  666     20.2  34.37\n",
              "436  14.42080  18.10  0.740  6.461   93.3  2.0026  666     20.2  18.05\n",
              "411  14.05070  18.10  0.597  6.657  100.0  1.5275  666     20.2  21.22\n",
              "86    0.05188   4.49  0.449  6.015   45.1  4.4272  247     18.5  12.86\n",
              "75    0.09512  12.83  0.437  6.286   45.0  4.5026  398     18.7   8.94\n",
              "\n",
              "[102 rows x 9 columns]"
            ]
          },
          "execution_count": 54,
          "metadata": {},
          "output_type": "execute_result"
        }
      ],
      "source": [
        "x_data_dict['Random forest'][1]"
      ]
    },
    {
      "cell_type": "markdown",
      "metadata": {
        "id": "yrwj3UGlXyQS"
      },
      "source": [
        "Let's modify run_all_models to allow us to run on different datasets:"
      ]
    },
    {
      "cell_type": "code",
      "execution_count": 55,
      "metadata": {
        "id": "4gl3w0OiYrtd"
      },
      "outputs": [],
      "source": [
        "def run_all_models(x_dict, y):\n",
        "  models_dict = {}\n",
        "  models_dict['Random forest'] = run_random_forest(x_dict['Random forest'][0], y)\n",
        "  models_dict['Decision tree'] = run_decision_tree(x_dict['Decision tree'][0], y)\n",
        "  models_dict['Linear regression'] = run_linear_regression(x_dict['Linear regression'][0], y)\n",
        "  models_dict['Ridge regression'] = run_ridge_regression(x_dict['Ridge regression'][0], y)\n",
        "  return models_dict"
      ]
    },
    {
      "cell_type": "markdown",
      "metadata": {
        "id": "rYFvv_kVZrUW"
      },
      "source": [
        "And run:"
      ]
    },
    {
      "cell_type": "code",
      "execution_count": 56,
      "metadata": {
        "colab": {
          "base_uri": "https://localhost:8080/"
        },
        "id": "ba027FzGX5W7",
        "outputId": "6f499894-6292-41e8-e6f8-edaaeb9dac86"
      },
      "outputs": [
        {
          "name": "stdout",
          "output_type": "stream",
          "text": [
            "Fitting 3 folds for each of 4 candidates, totalling 12 fits\n",
            "[CV 1/3] END ...............max_features=auto;, score=-21.182 total time=   0.5s\n",
            "[CV 2/3] END ...............max_features=auto;, score=-24.721 total time=   0.5s\n",
            "[CV 3/3] END ...............max_features=auto;, score=-10.632 total time=   0.5s\n",
            "[CV 1/3] END ...............max_features=sqrt;, score=-17.798 total time=   0.3s\n",
            "[CV 2/3] END ...............max_features=sqrt;, score=-16.111 total time=   0.3s\n",
            "[CV 3/3] END ...............max_features=sqrt;, score=-15.033 total time=   0.3s\n",
            "[CV 1/3] END ...............max_features=log2;, score=-17.798 total time=   0.4s\n",
            "[CV 2/3] END ...............max_features=log2;, score=-16.111 total time=   0.3s\n",
            "[CV 3/3] END ...............max_features=log2;, score=-15.033 total time=   0.3s\n",
            "[CV 1/3] END .max_features=0.3333333333333333;, score=-17.798 total time=   0.4s\n",
            "[CV 2/3] END .max_features=0.3333333333333333;, score=-16.111 total time=   0.3s\n",
            "[CV 3/3] END .max_features=0.3333333333333333;, score=-15.033 total time=   0.3s\n",
            "Fitting 3 folds for each of 4 candidates, totalling 12 fits\n",
            "[CV 1/3] END ...............max_features=auto;, score=-41.275 total time=   0.0s\n",
            "[CV 2/3] END ...............max_features=auto;, score=-36.226 total time=   0.0s\n",
            "[CV 3/3] END ...............max_features=auto;, score=-24.617 total time=   0.0s\n",
            "[CV 1/3] END ...............max_features=sqrt;, score=-29.105 total time=   0.0s\n",
            "[CV 2/3] END ...............max_features=sqrt;, score=-39.963 total time=   0.0s\n",
            "[CV 3/3] END ...............max_features=sqrt;, score=-22.336 total time=   0.0s\n",
            "[CV 1/3] END ...............max_features=log2;, score=-29.105 total time=   0.0s\n",
            "[CV 2/3] END ...............max_features=log2;, score=-39.963 total time=   0.0s\n",
            "[CV 3/3] END ...............max_features=log2;, score=-22.336 total time=   0.0s\n",
            "[CV 1/3] END .max_features=0.3333333333333333;, score=-29.105 total time=   0.0s\n",
            "[CV 2/3] END .max_features=0.3333333333333333;, score=-39.963 total time=   0.0s\n",
            "[CV 3/3] END .max_features=0.3333333333333333;, score=-22.336 total time=   0.0s\n",
            "Fitting 3 folds for each of 3 candidates, totalling 9 fits\n",
            "[CV 1/3] END ......................alpha=0.05;, score=-26.438 total time=   0.0s\n",
            "[CV 2/3] END ......................alpha=0.05;, score=-27.192 total time=   0.0s\n",
            "[CV 3/3] END ......................alpha=0.05;, score=-21.620 total time=   0.0s\n",
            "[CV 1/3] END .......................alpha=0.5;, score=-26.785 total time=   0.0s\n",
            "[CV 2/3] END .......................alpha=0.5;, score=-27.313 total time=   0.0s\n",
            "[CV 3/3] END .......................alpha=0.5;, score=-21.674 total time=   0.0s\n",
            "[CV 1/3] END .........................alpha=1;, score=-27.092 total time=   0.0s\n",
            "[CV 2/3] END .........................alpha=1;, score=-27.513 total time=   0.0s\n",
            "[CV 3/3] END .........................alpha=1;, score=-21.837 total time=   0.0s\n"
          ]
        },
        {
          "data": {
            "text/plain": [
              "{'Random forest': GridSearchCV(cv=3,\n",
              "              estimator=RandomForestRegressor(n_estimators=200, random_state=42),\n",
              "              param_grid={'max_features': ['auto', 'sqrt', 'log2',\n",
              "                                           0.3333333333333333]},\n",
              "              scoring='neg_mean_squared_error', verbose=3),\n",
              " 'Decision tree': GridSearchCV(cv=3, estimator=DecisionTreeRegressor(random_state=42),\n",
              "              param_grid={'max_features': ['auto', 'sqrt', 'log2',\n",
              "                                           0.3333333333333333]},\n",
              "              scoring='neg_mean_squared_error', verbose=3),\n",
              " 'Linear regression': (LinearRegression(),\n",
              "  array([-26.40356741, -27.20127573, -21.63597095])),\n",
              " 'Ridge regression': GridSearchCV(cv=3, estimator=Ridge(), param_grid={'alpha': [0.05, 0.5, 1]},\n",
              "              scoring='neg_mean_squared_error', verbose=3)}"
            ]
          },
          "execution_count": 56,
          "metadata": {},
          "output_type": "execute_result"
        }
      ],
      "source": [
        "models = run_all_models(x_data_dict, Y_train.values.ravel())\n",
        "models"
      ]
    },
    {
      "cell_type": "code",
      "execution_count": 57,
      "metadata": {
        "colab": {
          "base_uri": "https://localhost:8080/"
        },
        "id": "xBEgyqfuX5W7",
        "outputId": "a6d72119-7377-430f-94e7-1eab4f42bc76"
      },
      "outputs": [
        {
          "data": {
            "text/plain": [
              "{'Random forest': -16.313996951340517,\n",
              " 'Decision tree': -30.467892205638478,\n",
              " 'Ridge regression': -25.083199382596263,\n",
              " 'Linear regression': -25.080271364209793}"
            ]
          },
          "execution_count": 57,
          "metadata": {},
          "output_type": "execute_result"
        }
      ],
      "source": [
        "cv_scores = {}\n",
        "cv_scores['Random forest'] = models['Random forest'].best_score_\n",
        "cv_scores['Decision tree'] = models['Decision tree'].best_score_\n",
        "cv_scores['Ridge regression'] = models['Ridge regression'].best_score_\n",
        "cv_scores['Linear regression'] = models['Linear regression'][1].mean()\n",
        "cv_scores"
      ]
    },
    {
      "cell_type": "code",
      "execution_count": 58,
      "metadata": {
        "colab": {
          "base_uri": "https://localhost:8080/"
        },
        "id": "qHGakMIbX5W7",
        "outputId": "c994e090-f958-4e4e-929a-f569892f348c"
      },
      "outputs": [
        {
          "data": {
            "text/plain": [
              "{'Random forest': RandomForestRegressor(max_features='sqrt', n_estimators=200, random_state=42),\n",
              " 'Decision tree': DecisionTreeRegressor(max_features='sqrt', random_state=42),\n",
              " 'Ridge regression': Ridge(alpha=0.05),\n",
              " 'Linear regression': LinearRegression()}"
            ]
          },
          "execution_count": 58,
          "metadata": {},
          "output_type": "execute_result"
        }
      ],
      "source": [
        "trained_models_dict = {}\n",
        "trained_models_dict['Random forest'] = models['Random forest'].best_estimator_\n",
        "trained_models_dict['Decision tree'] = models['Decision tree'].best_estimator_\n",
        "trained_models_dict['Ridge regression'] = models['Ridge regression'].best_estimator_\n",
        "trained_models_dict['Linear regression'] = models['Linear regression'][0]\n",
        "trained_models_dict"
      ]
    },
    {
      "cell_type": "markdown",
      "metadata": {
        "id": "VV-5k91VZwHc"
      },
      "source": [
        "We'll need to modify evaluate_all_models as well:"
      ]
    },
    {
      "cell_type": "code",
      "execution_count": 59,
      "metadata": {
        "id": "XsqLnYz-Z3a8"
      },
      "outputs": [],
      "source": [
        "def evaluate_all_models(x_dict, y, models_dict):\n",
        "  test_set_scores = {}\n",
        "  for k, v in models_dict.items():\n",
        "    test_set_scores[k] = evaluate_single_model(x_dict[k][1], y, v)\n",
        "  return test_set_scores"
      ]
    },
    {
      "cell_type": "code",
      "execution_count": 60,
      "metadata": {
        "colab": {
          "base_uri": "https://localhost:8080/"
        },
        "id": "UZAPXsEZX5W7",
        "outputId": "ce90da81-bd64-451d-8394-98ebf6047ffe"
      },
      "outputs": [
        {
          "data": {
            "text/plain": [
              "{'Random forest': 9.128750252450981,\n",
              " 'Decision tree': 10.13078431372549,\n",
              " 'Ridge regression': 25.616690153170307,\n",
              " 'Linear regression': 25.612095689231538}"
            ]
          },
          "execution_count": 60,
          "metadata": {},
          "output_type": "execute_result"
        }
      ],
      "source": [
        "test_set_scores = evaluate_all_models(x_data_dict, Y_test, trained_models_dict)\n",
        "test_set_scores"
      ]
    },
    {
      "cell_type": "code",
      "execution_count": 61,
      "metadata": {
        "colab": {
          "base_uri": "https://localhost:8080/"
        },
        "id": "6wnbFEtxX5W7",
        "outputId": "e8487375-31d8-434e-e21e-fcab8549f68d"
      },
      "outputs": [
        {
          "data": {
            "text/plain": [
              "{'Random forest': [16.313996951340517, 9.128750252450981],\n",
              " 'Decision tree': [30.467892205638478, 10.13078431372549],\n",
              " 'Ridge regression': [25.083199382596263, 25.616690153170307],\n",
              " 'Linear regression': [25.080271364209793, 25.612095689231538]}"
            ]
          },
          "execution_count": 61,
          "metadata": {},
          "output_type": "execute_result"
        }
      ],
      "source": [
        "combined_dict = {k: [np.abs(v), test_set_scores[k]] for k, v in cv_scores.items()}\n",
        "combined_dict"
      ]
    },
    {
      "cell_type": "markdown",
      "metadata": {
        "id": "I76-a460el3v"
      },
      "source": [
        "Let's look at the new:"
      ]
    },
    {
      "cell_type": "code",
      "execution_count": 62,
      "metadata": {
        "colab": {
          "base_uri": "https://localhost:8080/",
          "height": 175
        },
        "id": "r10SFNM4cPXn",
        "outputId": "d4318ae4-1d72-44eb-fc58-74408027adfc"
      },
      "outputs": [
        {
          "data": {
            "text/html": [
              "\n",
              "  <div id=\"df-ef0b13a4-276f-4f43-af2f-7701c3c21b6b\">\n",
              "    <div class=\"colab-df-container\">\n",
              "      <div>\n",
              "<style scoped>\n",
              "    .dataframe tbody tr th:only-of-type {\n",
              "        vertical-align: middle;\n",
              "    }\n",
              "\n",
              "    .dataframe tbody tr th {\n",
              "        vertical-align: top;\n",
              "    }\n",
              "\n",
              "    .dataframe thead th {\n",
              "        text-align: right;\n",
              "    }\n",
              "</style>\n",
              "<table border=\"1\" class=\"dataframe\">\n",
              "  <thead>\n",
              "    <tr style=\"text-align: right;\">\n",
              "      <th></th>\n",
              "      <th>CV score removed features</th>\n",
              "      <th>Test set score removed features</th>\n",
              "    </tr>\n",
              "  </thead>\n",
              "  <tbody>\n",
              "    <tr>\n",
              "      <th>Random forest</th>\n",
              "      <td>16.313997</td>\n",
              "      <td>9.128750</td>\n",
              "    </tr>\n",
              "    <tr>\n",
              "      <th>Decision tree</th>\n",
              "      <td>30.467892</td>\n",
              "      <td>10.130784</td>\n",
              "    </tr>\n",
              "    <tr>\n",
              "      <th>Ridge regression</th>\n",
              "      <td>25.083199</td>\n",
              "      <td>25.616690</td>\n",
              "    </tr>\n",
              "    <tr>\n",
              "      <th>Linear regression</th>\n",
              "      <td>25.080271</td>\n",
              "      <td>25.612096</td>\n",
              "    </tr>\n",
              "  </tbody>\n",
              "</table>\n",
              "</div>\n",
              "      <button class=\"colab-df-convert\" onclick=\"convertToInteractive('df-ef0b13a4-276f-4f43-af2f-7701c3c21b6b')\"\n",
              "              title=\"Convert this dataframe to an interactive table.\"\n",
              "              style=\"display:none;\">\n",
              "        \n",
              "  <svg xmlns=\"http://www.w3.org/2000/svg\" height=\"24px\"viewBox=\"0 0 24 24\"\n",
              "       width=\"24px\">\n",
              "    <path d=\"M0 0h24v24H0V0z\" fill=\"none\"/>\n",
              "    <path d=\"M18.56 5.44l.94 2.06.94-2.06 2.06-.94-2.06-.94-.94-2.06-.94 2.06-2.06.94zm-11 1L8.5 8.5l.94-2.06 2.06-.94-2.06-.94L8.5 2.5l-.94 2.06-2.06.94zm10 10l.94 2.06.94-2.06 2.06-.94-2.06-.94-.94-2.06-.94 2.06-2.06.94z\"/><path d=\"M17.41 7.96l-1.37-1.37c-.4-.4-.92-.59-1.43-.59-.52 0-1.04.2-1.43.59L10.3 9.45l-7.72 7.72c-.78.78-.78 2.05 0 2.83L4 21.41c.39.39.9.59 1.41.59.51 0 1.02-.2 1.41-.59l7.78-7.78 2.81-2.81c.8-.78.8-2.07 0-2.86zM5.41 20L4 18.59l7.72-7.72 1.47 1.35L5.41 20z\"/>\n",
              "  </svg>\n",
              "      </button>\n",
              "      \n",
              "  <style>\n",
              "    .colab-df-container {\n",
              "      display:flex;\n",
              "      flex-wrap:wrap;\n",
              "      gap: 12px;\n",
              "    }\n",
              "\n",
              "    .colab-df-convert {\n",
              "      background-color: #E8F0FE;\n",
              "      border: none;\n",
              "      border-radius: 50%;\n",
              "      cursor: pointer;\n",
              "      display: none;\n",
              "      fill: #1967D2;\n",
              "      height: 32px;\n",
              "      padding: 0 0 0 0;\n",
              "      width: 32px;\n",
              "    }\n",
              "\n",
              "    .colab-df-convert:hover {\n",
              "      background-color: #E2EBFA;\n",
              "      box-shadow: 0px 1px 2px rgba(60, 64, 67, 0.3), 0px 1px 3px 1px rgba(60, 64, 67, 0.15);\n",
              "      fill: #174EA6;\n",
              "    }\n",
              "\n",
              "    [theme=dark] .colab-df-convert {\n",
              "      background-color: #3B4455;\n",
              "      fill: #D2E3FC;\n",
              "    }\n",
              "\n",
              "    [theme=dark] .colab-df-convert:hover {\n",
              "      background-color: #434B5C;\n",
              "      box-shadow: 0px 1px 3px 1px rgba(0, 0, 0, 0.15);\n",
              "      filter: drop-shadow(0px 1px 2px rgba(0, 0, 0, 0.3));\n",
              "      fill: #FFFFFF;\n",
              "    }\n",
              "  </style>\n",
              "\n",
              "      <script>\n",
              "        const buttonEl =\n",
              "          document.querySelector('#df-ef0b13a4-276f-4f43-af2f-7701c3c21b6b button.colab-df-convert');\n",
              "        buttonEl.style.display =\n",
              "          google.colab.kernel.accessAllowed ? 'block' : 'none';\n",
              "\n",
              "        async function convertToInteractive(key) {\n",
              "          const element = document.querySelector('#df-ef0b13a4-276f-4f43-af2f-7701c3c21b6b');\n",
              "          const dataTable =\n",
              "            await google.colab.kernel.invokeFunction('convertToInteractive',\n",
              "                                                     [key], {});\n",
              "          if (!dataTable) return;\n",
              "\n",
              "          const docLinkHtml = 'Like what you see? Visit the ' +\n",
              "            '<a target=\"_blank\" href=https://colab.research.google.com/notebooks/data_table.ipynb>data table notebook</a>'\n",
              "            + ' to learn more about interactive tables.';\n",
              "          element.innerHTML = '';\n",
              "          dataTable['output_type'] = 'display_data';\n",
              "          await google.colab.output.renderOutput(dataTable, element);\n",
              "          const docLink = document.createElement('div');\n",
              "          docLink.innerHTML = docLinkHtml;\n",
              "          element.appendChild(docLink);\n",
              "        }\n",
              "      </script>\n",
              "    </div>\n",
              "  </div>\n",
              "  "
            ],
            "text/plain": [
              "                   CV score removed features  Test set score removed features\n",
              "Random forest                      16.313997                         9.128750\n",
              "Decision tree                      30.467892                        10.130784\n",
              "Ridge regression                   25.083199                        25.616690\n",
              "Linear regression                  25.080271                        25.612096"
            ]
          },
          "execution_count": 62,
          "metadata": {},
          "output_type": "execute_result"
        }
      ],
      "source": [
        "new_scores_df = pd.DataFrame.from_dict(combined_dict, orient='index', columns=['CV score removed features', 'Test set score removed features'])\n",
        "new_scores_df"
      ]
    },
    {
      "cell_type": "markdown",
      "metadata": {
        "id": "5vystjAzeqzM"
      },
      "source": [
        "And combine to one df:"
      ]
    },
    {
      "cell_type": "code",
      "execution_count": 63,
      "metadata": {
        "colab": {
          "base_uri": "https://localhost:8080/",
          "height": 175
        },
        "id": "SRryK8fqcY6v",
        "outputId": "90bf3793-fefd-4481-c4f5-de633dbcaa82"
      },
      "outputs": [
        {
          "data": {
            "text/html": [
              "\n",
              "  <div id=\"df-32195856-4166-4509-9ea4-766980274aaf\">\n",
              "    <div class=\"colab-df-container\">\n",
              "      <div>\n",
              "<style scoped>\n",
              "    .dataframe tbody tr th:only-of-type {\n",
              "        vertical-align: middle;\n",
              "    }\n",
              "\n",
              "    .dataframe tbody tr th {\n",
              "        vertical-align: top;\n",
              "    }\n",
              "\n",
              "    .dataframe thead th {\n",
              "        text-align: right;\n",
              "    }\n",
              "</style>\n",
              "<table border=\"1\" class=\"dataframe\">\n",
              "  <thead>\n",
              "    <tr style=\"text-align: right;\">\n",
              "      <th></th>\n",
              "      <th>CV score</th>\n",
              "      <th>Test set score</th>\n",
              "      <th>CV score removed features</th>\n",
              "      <th>Test set score removed features</th>\n",
              "    </tr>\n",
              "  </thead>\n",
              "  <tbody>\n",
              "    <tr>\n",
              "      <th>Random forest</th>\n",
              "      <td>15.918192</td>\n",
              "      <td>9.932152</td>\n",
              "      <td>16.313997</td>\n",
              "      <td>9.128750</td>\n",
              "    </tr>\n",
              "    <tr>\n",
              "      <th>Decision tree</th>\n",
              "      <td>32.231269</td>\n",
              "      <td>26.548333</td>\n",
              "      <td>30.467892</td>\n",
              "      <td>10.130784</td>\n",
              "    </tr>\n",
              "    <tr>\n",
              "      <th>Ridge regression</th>\n",
              "      <td>25.378054</td>\n",
              "      <td>24.682875</td>\n",
              "      <td>25.083199</td>\n",
              "      <td>25.616690</td>\n",
              "    </tr>\n",
              "    <tr>\n",
              "      <th>Linear regression</th>\n",
              "      <td>25.378359</td>\n",
              "      <td>24.680426</td>\n",
              "      <td>25.080271</td>\n",
              "      <td>25.612096</td>\n",
              "    </tr>\n",
              "  </tbody>\n",
              "</table>\n",
              "</div>\n",
              "      <button class=\"colab-df-convert\" onclick=\"convertToInteractive('df-32195856-4166-4509-9ea4-766980274aaf')\"\n",
              "              title=\"Convert this dataframe to an interactive table.\"\n",
              "              style=\"display:none;\">\n",
              "        \n",
              "  <svg xmlns=\"http://www.w3.org/2000/svg\" height=\"24px\"viewBox=\"0 0 24 24\"\n",
              "       width=\"24px\">\n",
              "    <path d=\"M0 0h24v24H0V0z\" fill=\"none\"/>\n",
              "    <path d=\"M18.56 5.44l.94 2.06.94-2.06 2.06-.94-2.06-.94-.94-2.06-.94 2.06-2.06.94zm-11 1L8.5 8.5l.94-2.06 2.06-.94-2.06-.94L8.5 2.5l-.94 2.06-2.06.94zm10 10l.94 2.06.94-2.06 2.06-.94-2.06-.94-.94-2.06-.94 2.06-2.06.94z\"/><path d=\"M17.41 7.96l-1.37-1.37c-.4-.4-.92-.59-1.43-.59-.52 0-1.04.2-1.43.59L10.3 9.45l-7.72 7.72c-.78.78-.78 2.05 0 2.83L4 21.41c.39.39.9.59 1.41.59.51 0 1.02-.2 1.41-.59l7.78-7.78 2.81-2.81c.8-.78.8-2.07 0-2.86zM5.41 20L4 18.59l7.72-7.72 1.47 1.35L5.41 20z\"/>\n",
              "  </svg>\n",
              "      </button>\n",
              "      \n",
              "  <style>\n",
              "    .colab-df-container {\n",
              "      display:flex;\n",
              "      flex-wrap:wrap;\n",
              "      gap: 12px;\n",
              "    }\n",
              "\n",
              "    .colab-df-convert {\n",
              "      background-color: #E8F0FE;\n",
              "      border: none;\n",
              "      border-radius: 50%;\n",
              "      cursor: pointer;\n",
              "      display: none;\n",
              "      fill: #1967D2;\n",
              "      height: 32px;\n",
              "      padding: 0 0 0 0;\n",
              "      width: 32px;\n",
              "    }\n",
              "\n",
              "    .colab-df-convert:hover {\n",
              "      background-color: #E2EBFA;\n",
              "      box-shadow: 0px 1px 2px rgba(60, 64, 67, 0.3), 0px 1px 3px 1px rgba(60, 64, 67, 0.15);\n",
              "      fill: #174EA6;\n",
              "    }\n",
              "\n",
              "    [theme=dark] .colab-df-convert {\n",
              "      background-color: #3B4455;\n",
              "      fill: #D2E3FC;\n",
              "    }\n",
              "\n",
              "    [theme=dark] .colab-df-convert:hover {\n",
              "      background-color: #434B5C;\n",
              "      box-shadow: 0px 1px 3px 1px rgba(0, 0, 0, 0.15);\n",
              "      filter: drop-shadow(0px 1px 2px rgba(0, 0, 0, 0.3));\n",
              "      fill: #FFFFFF;\n",
              "    }\n",
              "  </style>\n",
              "\n",
              "      <script>\n",
              "        const buttonEl =\n",
              "          document.querySelector('#df-32195856-4166-4509-9ea4-766980274aaf button.colab-df-convert');\n",
              "        buttonEl.style.display =\n",
              "          google.colab.kernel.accessAllowed ? 'block' : 'none';\n",
              "\n",
              "        async function convertToInteractive(key) {\n",
              "          const element = document.querySelector('#df-32195856-4166-4509-9ea4-766980274aaf');\n",
              "          const dataTable =\n",
              "            await google.colab.kernel.invokeFunction('convertToInteractive',\n",
              "                                                     [key], {});\n",
              "          if (!dataTable) return;\n",
              "\n",
              "          const docLinkHtml = 'Like what you see? Visit the ' +\n",
              "            '<a target=\"_blank\" href=https://colab.research.google.com/notebooks/data_table.ipynb>data table notebook</a>'\n",
              "            + ' to learn more about interactive tables.';\n",
              "          element.innerHTML = '';\n",
              "          dataTable['output_type'] = 'display_data';\n",
              "          await google.colab.output.renderOutput(dataTable, element);\n",
              "          const docLink = document.createElement('div');\n",
              "          docLink.innerHTML = docLinkHtml;\n",
              "          element.appendChild(docLink);\n",
              "        }\n",
              "      </script>\n",
              "    </div>\n",
              "  </div>\n",
              "  "
            ],
            "text/plain": [
              "                    CV score  Test set score  CV score removed features  \\\n",
              "Random forest      15.918192        9.932152                  16.313997   \n",
              "Decision tree      32.231269       26.548333                  30.467892   \n",
              "Ridge regression   25.378054       24.682875                  25.083199   \n",
              "Linear regression  25.378359       24.680426                  25.080271   \n",
              "\n",
              "                   Test set score removed features  \n",
              "Random forest                             9.128750  \n",
              "Decision tree                            10.130784  \n",
              "Ridge regression                         25.616690  \n",
              "Linear regression                        25.612096  "
            ]
          },
          "execution_count": 63,
          "metadata": {},
          "output_type": "execute_result"
        }
      ],
      "source": [
        "combined_df = pd.concat([scores_df, new_scores_df], axis=1, ignore_index=False)\n",
        "combined_df"
      ]
    },
    {
      "cell_type": "markdown",
      "metadata": {
        "id": "0ndbQQLces2v"
      },
      "source": [
        "Finally, let's plot the results:"
      ]
    },
    {
      "cell_type": "code",
      "execution_count": 64,
      "metadata": {
        "colab": {
          "base_uri": "https://localhost:8080/",
          "height": 301
        },
        "id": "Hwj2IhItdrhw",
        "outputId": "27face06-0891-47f1-f4b0-4fbd5a3b44e7"
      },
      "outputs": [
        {
          "data": {
            "text/plain": [
              "<matplotlib.legend.Legend at 0x7f1eac264750>"
            ]
          },
          "execution_count": 64,
          "metadata": {},
          "output_type": "execute_result"
        },
        {
          "data": {
            "image/png": "[encoded data removed]",
            "text/plain": [
              "<Figure size 432x288 with 1 Axes>"
            ]
          },
          "metadata": {},
          "output_type": "display_data"
        }
      ],
      "source": [
        "combined_df[['CV score', 'CV score removed features']].plot(kind='barh', title = 'CV Comparison').legend(loc='center left', bbox_to_anchor=(1.0, 0.5))"
      ]
    },
    {
      "cell_type": "code",
      "execution_count": 65,
      "metadata": {
        "colab": {
          "base_uri": "https://localhost:8080/",
          "height": 301
        },
        "id": "v9OAphWveXni",
        "outputId": "3a438d5a-ff98-40fa-88ba-657f10a93b3a"
      },
      "outputs": [
        {
          "data": {
            "text/plain": [
              "<matplotlib.legend.Legend at 0x7f1eabe743d0>"
            ]
          },
          "execution_count": 65,
          "metadata": {},
          "output_type": "execute_result"
        },
        {
          "data": {
            "image/png": "[encoded data removed]",
            "text/plain": [
              "<Figure size 432x288 with 1 Axes>"
            ]
          },
          "metadata": {},
          "output_type": "display_data"
        }
      ],
      "source": [
        "combined_df[['Test set score', 'Test set score removed features']].plot(kind='barh', title = 'Test set score Comparison').legend(loc='center left', bbox_to_anchor=(1.0, 0.5))"
      ]
    },
    {
      "cell_type": "markdown",
      "metadata": {
        "id": "_d6lVptpOG69"
      },
      "source": [
        "## Conclusion\n",
        "\n",
        "In today's class we learned:\n",
        "*   The choice of models matters: random forest outperformed other regression models.\n",
        "*   How to tune hyperparameters for an ML model.\n",
        "*   Data science has an ethical perspective.\n",
        "*   Sometimes in ML, less is more: by removing features with low impact we improve the results of our model.\n",
        "\n"
      ]
    }
  ],
  "metadata": {
    "colab": {
      "collapsed_sections": [],
      "provenance": []
    },
    "kernelspec": {
      "display_name": "Python 3.10.7 64-bit",
      "language": "python",
      "name": "python3"
    },
    "language_info": {
      "name": "python",
      "version": "3.10.7"
    },
    "vscode": {
      "interpreter": {
        "hash": "369f2c481f4da34e4445cda3fffd2e751bd1c4d706f27375911949ba6bb62e1c"
      }
    }
  },
  "nbformat": 4,
  "nbformat_minor": 0
}
