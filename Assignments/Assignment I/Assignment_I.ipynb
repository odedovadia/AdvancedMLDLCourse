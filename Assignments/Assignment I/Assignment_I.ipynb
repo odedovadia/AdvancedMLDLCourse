{
  "cells": [
    {
      "cell_type": "markdown",
      "metadata": {
        "id": "uXkgXVJol7ij"
      },
      "source": [
        "# Assignment I"
      ]
    },
    {
      "cell_type": "markdown",
      "metadata": {
        "id": "ZGFivNApmCpV"
      },
      "source": [
        "## Description\n",
        "\n"
      ]
    },
    {
      "cell_type": "markdown",
      "metadata": {
        "id": "BQn_4nXqSdHJ"
      },
      "source": [
        "You are given a bike sharing dataset. Your goal is to predict the number of bicycles that were rented in each day of the testing set (target variable named 'count'). The dataset has been uploaded to the Moodle site.\n",
        "\n",
        "You may use any model of your choice, suchs as linear regression, logistic regression, random forest, XGBoost, or any other algorithm.\n",
        "\n",
        "You're required to choose exactly 3 different models and compare them.\n",
        "\n",
        "Follow these steps to succeed:\n",
        "\n",
        "*   Explore the data\n",
        "*   Choose and train an appropriate model\n",
        "*   Tune hyperparameters\n",
        "*   Evaluate the model\n",
        "*   Provide explainability\n",
        "\n",
        "Whoever gets the best score will get a 5 points bonus to their grade!"
      ]
    },
    {
      "cell_type": "markdown",
      "metadata": {
        "id": "-vNoXCyXtn7s"
      },
      "source": [
        "## Submission guidelines\n",
        "\n",
        "**This is a group project (4 members)**. Submissions must include the names of all students in the first paragraph.\n",
        "\n",
        "Once you are done with the coding part on Google Colab, click \"clear all outputs\", followed by \"reset and run all\". This verifies that your code runs smoothly. \n",
        "**Please** make sure that the results and outputs are visible, and that the code is well documented with comments describing your actions.\n",
        "\n",
        "The submission is done using Github. One of the team members has to open a Github account, and open a repository for the assignment. \n",
        "Proceed to upload the notebook to the Github repo. In Moodle, all you need to do is submit a link to the Github repo.\n",
        "\n",
        "\n",
        "You are required to submit two different files: \n",
        "1.   Your Google Colab notebook with the code. \n",
        "2.   A CSV file called '**exercise1.csv**' containing the following fields: \n",
        "      *   Your choice of model\n",
        "      *   The score of your model on the test set in terms of RMSE\n",
        "      *   Your choice of hyperparameters\n",
        "      *   Features dropped\n",
        "      *   New features created\n",
        "      *   Runtime trainining + inference (seconds)\n",
        "      *   Hardware used (GPU/CPU/TPU)\n",
        "      *   Explainability (top 3 features)"
      ]
    },
    {
      "cell_type": "markdown",
      "metadata": {
        "id": "dNwPmmxiAULb"
      },
      "source": [
        "You may use the following code to generate the CSV file:"
      ]
    },
    {
      "cell_type": "code",
      "execution_count": null,
      "metadata": {
        "colab": {
          "base_uri": "https://localhost:8080/",
          "height": 204
        },
        "id": "zK9tUpJf8mAK",
        "outputId": "3da42eaf-7311-4580-e4f2-dbf752477052"
      },
      "outputs": [
        {
          "data": {
            "text/html": [
              "\n",
              "  <div id=\"df-8af2226d-12df-4364-9730-a03517e12154\">\n",
              "    <div class=\"colab-df-container\">\n",
              "      <div>\n",
              "<style scoped>\n",
              "    .dataframe tbody tr th:only-of-type {\n",
              "        vertical-align: middle;\n",
              "    }\n",
              "\n",
              "    .dataframe tbody tr th {\n",
              "        vertical-align: top;\n",
              "    }\n",
              "\n",
              "    .dataframe thead th {\n",
              "        text-align: right;\n",
              "    }\n",
              "</style>\n",
              "<table border=\"1\" class=\"dataframe\">\n",
              "  <thead>\n",
              "    <tr style=\"text-align: right;\">\n",
              "      <th></th>\n",
              "      <th>model</th>\n",
              "      <th>Score (RMSE)</th>\n",
              "      <th>Hyperparams used</th>\n",
              "      <th>Features dropped</th>\n",
              "      <th>New features created</th>\n",
              "      <th>Runtime trainining + inference (seconds)</th>\n",
              "      <th>Hardware used (GPU/CPU/TPU)</th>\n",
              "      <th>Explainability (top 3 features)</th>\n",
              "    </tr>\n",
              "  </thead>\n",
              "  <tbody>\n",
              "    <tr>\n",
              "      <th>0</th>\n",
              "      <td>string1</td>\n",
              "      <td>string1</td>\n",
              "      <td>[list1]</td>\n",
              "      <td>[list1]</td>\n",
              "      <td>[list1]</td>\n",
              "      <td>int1</td>\n",
              "      <td>string1</td>\n",
              "      <td>[list1]</td>\n",
              "    </tr>\n",
              "    <tr>\n",
              "      <th>1</th>\n",
              "      <td>string2</td>\n",
              "      <td>string2</td>\n",
              "      <td>[list2]</td>\n",
              "      <td>[list2]</td>\n",
              "      <td>[list2]</td>\n",
              "      <td>int2</td>\n",
              "      <td>string2</td>\n",
              "      <td>[list2]</td>\n",
              "    </tr>\n",
              "    <tr>\n",
              "      <th>2</th>\n",
              "      <td>string3</td>\n",
              "      <td>string3</td>\n",
              "      <td>[list3]</td>\n",
              "      <td>[list3]</td>\n",
              "      <td>[list3]</td>\n",
              "      <td>int3</td>\n",
              "      <td>string3</td>\n",
              "      <td>[list3]</td>\n",
              "    </tr>\n",
              "  </tbody>\n",
              "</table>\n",
              "</div>\n",
              "      <button class=\"colab-df-convert\" onclick=\"convertToInteractive('df-8af2226d-12df-4364-9730-a03517e12154')\"\n",
              "              title=\"Convert this dataframe to an interactive table.\"\n",
              "              style=\"display:none;\">\n",
              "        \n",
              "  <svg xmlns=\"http://www.w3.org/2000/svg\" height=\"24px\"viewBox=\"0 0 24 24\"\n",
              "       width=\"24px\">\n",
              "    <path d=\"M0 0h24v24H0V0z\" fill=\"none\"/>\n",
              "    <path d=\"M18.56 5.44l.94 2.06.94-2.06 2.06-.94-2.06-.94-.94-2.06-.94 2.06-2.06.94zm-11 1L8.5 8.5l.94-2.06 2.06-.94-2.06-.94L8.5 2.5l-.94 2.06-2.06.94zm10 10l.94 2.06.94-2.06 2.06-.94-2.06-.94-.94-2.06-.94 2.06-2.06.94z\"/><path d=\"M17.41 7.96l-1.37-1.37c-.4-.4-.92-.59-1.43-.59-.52 0-1.04.2-1.43.59L10.3 9.45l-7.72 7.72c-.78.78-.78 2.05 0 2.83L4 21.41c.39.39.9.59 1.41.59.51 0 1.02-.2 1.41-.59l7.78-7.78 2.81-2.81c.8-.78.8-2.07 0-2.86zM5.41 20L4 18.59l7.72-7.72 1.47 1.35L5.41 20z\"/>\n",
              "  </svg>\n",
              "      </button>\n",
              "      \n",
              "  <style>\n",
              "    .colab-df-container {\n",
              "      display:flex;\n",
              "      flex-wrap:wrap;\n",
              "      gap: 12px;\n",
              "    }\n",
              "\n",
              "    .colab-df-convert {\n",
              "      background-color: #E8F0FE;\n",
              "      border: none;\n",
              "      border-radius: 50%;\n",
              "      cursor: pointer;\n",
              "      display: none;\n",
              "      fill: #1967D2;\n",
              "      height: 32px;\n",
              "      padding: 0 0 0 0;\n",
              "      width: 32px;\n",
              "    }\n",
              "\n",
              "    .colab-df-convert:hover {\n",
              "      background-color: #E2EBFA;\n",
              "      box-shadow: 0px 1px 2px rgba(60, 64, 67, 0.3), 0px 1px 3px 1px rgba(60, 64, 67, 0.15);\n",
              "      fill: #174EA6;\n",
              "    }\n",
              "\n",
              "    [theme=dark] .colab-df-convert {\n",
              "      background-color: #3B4455;\n",
              "      fill: #D2E3FC;\n",
              "    }\n",
              "\n",
              "    [theme=dark] .colab-df-convert:hover {\n",
              "      background-color: #434B5C;\n",
              "      box-shadow: 0px 1px 3px 1px rgba(0, 0, 0, 0.15);\n",
              "      filter: drop-shadow(0px 1px 2px rgba(0, 0, 0, 0.3));\n",
              "      fill: #FFFFFF;\n",
              "    }\n",
              "  </style>\n",
              "\n",
              "      <script>\n",
              "        const buttonEl =\n",
              "          document.querySelector('#df-8af2226d-12df-4364-9730-a03517e12154 button.colab-df-convert');\n",
              "        buttonEl.style.display =\n",
              "          google.colab.kernel.accessAllowed ? 'block' : 'none';\n",
              "\n",
              "        async function convertToInteractive(key) {\n",
              "          const element = document.querySelector('#df-8af2226d-12df-4364-9730-a03517e12154');\n",
              "          const dataTable =\n",
              "            await google.colab.kernel.invokeFunction('convertToInteractive',\n",
              "                                                     [key], {});\n",
              "          if (!dataTable) return;\n",
              "\n",
              "          const docLinkHtml = 'Like what you see? Visit the ' +\n",
              "            '<a target=\"_blank\" href=https://colab.research.google.com/notebooks/data_table.ipynb>data table notebook</a>'\n",
              "            + ' to learn more about interactive tables.';\n",
              "          element.innerHTML = '';\n",
              "          dataTable['output_type'] = 'display_data';\n",
              "          await google.colab.output.renderOutput(dataTable, element);\n",
              "          const docLink = document.createElement('div');\n",
              "          docLink.innerHTML = docLinkHtml;\n",
              "          element.appendChild(docLink);\n",
              "        }\n",
              "      </script>\n",
              "    </div>\n",
              "  </div>\n",
              "  "
            ],
            "text/plain": [
              "     model  ... Explainability (top 3 features)\n",
              "0  string1  ...                         [list1]\n",
              "1  string2  ...                         [list2]\n",
              "2  string3  ...                         [list3]\n",
              "\n",
              "[3 rows x 8 columns]"
            ]
          },
          "execution_count": 9,
          "metadata": {},
          "output_type": "execute_result"
        }
      ],
      "source": [
        "import pandas as pd\n",
        "# Keep keys the same, and replace values according to your results and the specified type \n",
        "\n",
        "results = {'model': ['string1', 'string2', 'string3'],\n",
        "           'Score (RMSE)': ['string1', 'string2', 'string3'],\n",
        "           'Hyperparams used': [['list1'], ['list2'], ['list3']],\n",
        "           'Features dropped': [['list1'], ['list2'], ['list3']],\n",
        "           'New features created': [['list1'], ['list2'], ['list3']],\n",
        "           'Runtime trainining + inference (seconds)': ['int1', 'int2', 'int3'],\n",
        "           'Hardware used (GPU/CPU/TPU)': ['string1', 'string2', 'string3'],\n",
        "           'Explainability (top 3 features)': [['list1'], ['list2'], ['list3']]\n",
        "           }\n",
        "\n",
        "df = pd.DataFrame(results)\n",
        "df"
      ]
    },
    {
      "cell_type": "code",
      "execution_count": null,
      "metadata": {
        "id": "zcvh7vlU-Oil"
      },
      "outputs": [],
      "source": [
        "import os\n",
        "df.to_csv(os.path.join(os.getcwd(), 'example.csv'))"
      ]
    },
    {
      "cell_type": "markdown",
      "metadata": {
        "id": "JhxziaeEKroP"
      },
      "source": [
        "And use the following formula for RMSE:"
      ]
    },
    {
      "cell_type": "code",
      "execution_count": null,
      "metadata": {
        "id": "SLtLuoPaKt0B"
      },
      "outputs": [],
      "source": [
        "import numpy as np\n",
        "from sklearn.metrics import mean_squared_error\n",
        "np.sqrt(mean_squared_error(y_test, y_pred))"
      ]
    },
    {
      "cell_type": "markdown",
      "metadata": {
        "id": "r2iGR66J7dIz"
      },
      "source": [
        "Interpretation of RMSE values for this problem:\n",
        "\n",
        "1.   RMSE < 100: OK model\n",
        "2.   RMSE < 70: Good model\n",
        "3.   RMSE < 50: Great model\n",
        "\n",
        "\n",
        "\n"
      ]
    },
    {
      "cell_type": "markdown",
      "metadata": {
        "id": "0CaCLBpRSzGn"
      },
      "source": [
        "Train the model on the 'train.csv' file and evaluate it on 'test.csv'. The final reported score should be computed on 'test.csv', of course."
      ]
    }
  ],
  "metadata": {
    "colab": {
      "collapsed_sections": [],
      "name": "Assignment I.ipynb",
      "provenance": []
    },
    "kernelspec": {
      "display_name": "Python 3.10.7 64-bit",
      "language": "python",
      "name": "python3"
    },
    "language_info": {
      "name": "python",
      "version": "3.10.7"
    },
    "vscode": {
      "interpreter": {
        "hash": "369f2c481f4da34e4445cda3fffd2e751bd1c4d706f27375911949ba6bb62e1c"
      }
    }
  },
  "nbformat": 4,
  "nbformat_minor": 0
}
